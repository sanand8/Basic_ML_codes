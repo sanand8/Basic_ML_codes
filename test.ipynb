{
 "cells": [
  {
   "cell_type": "code",
   "execution_count": 12,
   "metadata": {},
   "outputs": [],
   "source": [
    "#importing the inbuilt library\n",
    "\n",
    "import pandas as pd\n",
    "import numpy as np\n",
    "from sklearn import metrics\n",
    "from mlxtend.evaluate import confusion_matrix"
   ]
  },
  {
   "cell_type": "code",
   "execution_count": 16,
   "metadata": {},
   "outputs": [
    {
     "name": "stdout",
     "output_type": "stream",
     "text": [
      "      0    1    2    3    4    5    6    7    8    9   ...   24   25   26  \\\n",
      "0    3.0  3.0  3.0  2.0  1.0  0.0  0.0  0.0  1.0  1.0  ...  0.0  0.0  0.0   \n",
      "1    2.0  1.0  2.0  3.0  1.0  3.0  0.0  3.0  0.0  0.0  ...  2.0  0.0  2.0   \n",
      "2    2.0  2.0  2.0  0.0  0.0  0.0  0.0  0.0  3.0  2.0  ...  0.0  3.0  0.0   \n",
      "3    2.0  3.0  2.0  2.0  2.0  2.0  0.0  2.0  0.0  0.0  ...  2.0  2.0  3.0   \n",
      "4    2.0  3.0  2.0  0.0  0.0  0.0  0.0  0.0  0.0  0.0  ...  0.0  0.0  0.0   \n",
      "..   ...  ...  ...  ...  ...  ...  ...  ...  ...  ...  ...  ...  ...  ...   \n",
      "360  2.0  1.0  1.0  0.0  1.0  0.0  0.0  0.0  0.0  0.0  ...  0.0  0.0  0.0   \n",
      "361  3.0  2.0  1.0  0.0  1.0  0.0  0.0  0.0  0.0  0.0  ...  0.0  1.0  0.0   \n",
      "362  3.0  2.0  2.0  2.0  3.0  2.0  0.0  2.0  0.0  0.0  ...  3.0  0.0  3.0   \n",
      "363  2.0  1.0  3.0  1.0  2.0  3.0  0.0  2.0  0.0  0.0  ...  3.0  0.0  2.0   \n",
      "364  3.0  2.0  2.0  0.0  0.0  0.0  0.0  0.0  3.0  3.0  ...  0.0  2.0  0.0   \n",
      "\n",
      "      27   28   29   30   31   32    33  \n",
      "0    0.0  0.0  0.0  0.0  1.0  0.0   8.0  \n",
      "1    3.0  2.0  0.0  0.0  2.0  3.0  26.0  \n",
      "2    0.0  0.0  0.0  0.0  3.0  0.0  40.0  \n",
      "3    2.0  3.0  0.0  0.0  2.0  3.0  45.0  \n",
      "4    2.0  0.0  0.0  0.0  1.0  0.0  41.0  \n",
      "..   ...  ...  ...  ...  ...  ...   ...  \n",
      "360  1.0  0.0  0.0  0.0  2.0  0.0  25.0  \n",
      "361  1.0  0.0  0.0  0.0  2.0  0.0  36.0  \n",
      "362  0.0  3.0  0.0  0.0  2.0  3.0  28.0  \n",
      "363  0.0  1.0  0.0  0.0  2.0  3.0  50.0  \n",
      "364  0.0  0.0  0.0  0.0  3.0  0.0  35.0  \n",
      "\n",
      "[365 rows x 34 columns] 0      1\n",
      "1      3\n",
      "2      1\n",
      "3      3\n",
      "4      2\n",
      "      ..\n",
      "360    4\n",
      "361    4\n",
      "362    3\n",
      "363    3\n",
      "364    1\n",
      "Name: 2.3, Length: 365, dtype: int64\n"
     ]
    }
   ],
   "source": [
    "#reading the data\n",
    "data = pd.read_csv('dermatology_csv.csv')\n",
    "data.head()\n",
    "\n",
    "#asssigning the data\n",
    "X = data.iloc[:,0:34]\n",
    "\n",
    "Y = data.iloc[:,-1]\n",
    "\n",
    "#if some datas are missing then we are repplacing the data with the mean of the datas\n",
    "from sklearn.impute import SimpleImputer\n",
    "imputer = SimpleImputer(missing_values=np.nan,strategy ='mean')\n",
    "imputer = imputer.fit(X)\n",
    "X = imputer.transform(X)\n",
    "X = pd.DataFrame(X)\n",
    "\n",
    "print(X,y)"
   ]
  },
  {
   "cell_type": "code",
   "execution_count": 17,
   "metadata": {},
   "outputs": [],
   "source": [
    "#SPILITTING THE DATA into 80:20\n",
    "from sklearn.model_selection import train_test_split\n",
    "X_train , X_test, Y_train , Y_test = train_test_split(X , Y , test_size = 0.2)"
   ]
  },
  {
   "cell_type": "code",
   "execution_count": 18,
   "metadata": {},
   "outputs": [
    {
     "name": "stdout",
     "output_type": "stream",
     "text": [
      "Accuracy: 0.958904109589041\n"
     ]
    },
    {
     "name": "stderr",
     "output_type": "stream",
     "text": [
      "c:\\python37\\lib\\importlib\\_bootstrap.py:219: RuntimeWarning: numpy.ufunc size changed, may indicate binary incompatibility. Expected 192 from C header, got 216 from PyObject\n",
      "  return f(*args, **kwds)\n"
     ]
    }
   ],
   "source": [
    "#DECISION TREE\n",
    "\n",
    "#from sklearn.learn import DecisionTreeClassifier\n",
    "from sklearn.tree import DecisionTreeClassifier\n",
    "var = DecisionTreeClassifier()\n",
    "var.fit(X_train, Y_train)\n",
    "Y_pred = var.predict(X_test)\n",
    "print(\"Accuracy:\",metrics.accuracy_score(Y_pred, Y_test))\n",
    "\n"
   ]
  },
  {
   "cell_type": "code",
   "execution_count": 19,
   "metadata": {},
   "outputs": [
    {
     "data": {
      "text/plain": [
       "array([[22,  0,  0,  0,  0,  0],\n",
       "       [ 0,  8,  0,  2,  0,  1],\n",
       "       [ 0,  0, 17,  0,  0,  0],\n",
       "       [ 0,  0,  0,  4,  0,  0],\n",
       "       [ 0,  0,  0,  0, 13,  0],\n",
       "       [ 0,  0,  0,  0,  0,  6]])"
      ]
     },
     "execution_count": 19,
     "metadata": {},
     "output_type": "execute_result"
    }
   ],
   "source": [
    "#Confusion matrix\n",
    "cm = confusion_matrix(Y_test, Y_pred, binary = False)\n",
    "cm"
   ]
  }
 ],
 "metadata": {
  "kernelspec": {
   "display_name": "Python 3",
   "language": "python",
   "name": "python3"
  },
  "language_info": {
   "codemirror_mode": {
    "name": "ipython",
    "version": 3
   },
   "file_extension": ".py",
   "mimetype": "text/x-python",
   "name": "python",
   "nbconvert_exporter": "python",
   "pygments_lexer": "ipython3",
   "version": "3.7.4"
  }
 },
 "nbformat": 4,
 "nbformat_minor": 4
}
