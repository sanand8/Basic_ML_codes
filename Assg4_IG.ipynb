{
 "cells": [
  {
   "cell_type": "code",
   "execution_count": 1,
   "metadata": {},
   "outputs": [],
   "source": [
    "import numpy as np\n",
    "import pandas as pd\n",
    "import matplotlib.pyplot as plt9   "
   ]
  },
  {
   "cell_type": "code",
   "execution_count": 2,
   "metadata": {},
   "outputs": [],
   "source": [
    "from sklearn.model_selection import train_test_split\n",
    "from sklearn.ensemble import RandomForestClassifier\n",
    "from sklearn.metrics import accuracy_score\n",
    "from sklearn.feature_selection import VarianceThreshold, mutual_info_classif, mutual_info_regression\n",
    "from sklearn.feature_selection import SelectKBest, SelectPercentile"
   ]
  },
  {
   "cell_type": "code",
   "execution_count": 3,
   "metadata": {},
   "outputs": [
    {
     "data": {
      "text/plain": [
       "array([0.07868342, 0.16117698, 0.25083966, 0.23313706, 0.29591616,\n",
       "       0.45948713, 0.23747495, 0.47383105, 0.45771181, 0.34401407,\n",
       "       0.08471955, 0.44930519, 0.06234692, 0.25719601, 0.38906579,\n",
       "       0.4528992 , 0.03046797, 0.04927699, 0.17372322, 0.59053135,\n",
       "       0.60057677, 0.59943801, 0.20685089, 0.33730718, 0.48147653,\n",
       "       0.25533898, 0.45513258, 0.37716331, 0.48315621, 0.17143337,\n",
       "       0.11889849, 0.03293213, 0.45390822, 0.17211263])"
      ]
     },
     "execution_count": 3,
     "metadata": {},
     "output_type": "execute_result"
    }
   ],
   "source": [
    "data = pd.read_csv('dermatology_csv.csv')\n",
    "data.head()\n",
    "\n",
    "X = data.iloc[:,0:34]\n",
    "\n",
    "y = data.iloc[:,-1]\n",
    "\n",
    "from sklearn.impute import SimpleImputer\n",
    "imputer = SimpleImputer(missing_values=np.nan,strategy ='mean')\n",
    "imputer = imputer.fit(X)\n",
    "X = imputer.transform(X)\n",
    "X = pd.DataFrame(X)\n",
    "\n",
    "#checking the dependencies btwn two variables\n",
    "mi = mutual_info_classif(X, y)\n",
    "mi"
   ]
  },
  {
   "cell_type": "code",
   "execution_count": 4,
   "metadata": {},
   "outputs": [
    {
     "data": {
      "text/plain": [
       "0     0.078683\n",
       "1     0.161177\n",
       "2     0.250840\n",
       "3     0.233137\n",
       "4     0.295916\n",
       "5     0.459487\n",
       "6     0.237475\n",
       "7     0.473831\n",
       "8     0.457712\n",
       "9     0.344014\n",
       "10    0.084720\n",
       "11    0.449305\n",
       "12    0.062347\n",
       "13    0.257196\n",
       "14    0.389066\n",
       "15    0.452899\n",
       "16    0.030468\n",
       "17    0.049277\n",
       "18    0.173723\n",
       "19    0.590531\n",
       "20    0.600577\n",
       "21    0.599438\n",
       "22    0.206851\n",
       "23    0.337307\n",
       "24    0.481477\n",
       "25    0.255339\n",
       "26    0.455133\n",
       "27    0.377163\n",
       "28    0.483156\n",
       "29    0.171433\n",
       "30    0.118898\n",
       "31    0.032932\n",
       "32    0.453908\n",
       "33    0.172113\n",
       "dtype: float64"
      ]
     },
     "execution_count": 4,
     "metadata": {},
     "output_type": "execute_result"
    }
   ],
   "source": [
    "#series is a one-d array\n",
    "mi = pd.Series(mi)\n",
    "#the lables of the series collectively known as index\n",
    "mi.index = X.columns\n",
    "mi"
   ]
  },
  {
   "cell_type": "code",
   "execution_count": 10,
   "metadata": {},
   "outputs": [
    {
     "data": {
      "text/plain": [
       "<matplotlib.axes._subplots.AxesSubplot at 0x1dc0251cc48>"
      ]
     },
     "execution_count": 10,
     "metadata": {},
     "output_type": "execute_result"
    },
    {
     "data": {
      "image/png": "[encoded data removed]",
      "text/plain": [
       "<Figure size 1152x360 with 1 Axes>"
      ]
     },
     "metadata": {
      "needs_background": "light"
     },
     "output_type": "display_data"
    }
   ],
   "source": [
    "mi.sort_values(ascending=False, inplace = True)\n",
    "#inplace: Boolean value. Makes the changes in passed data frame itself if True.\n",
    "\n",
    "mi.plot.bar(figsize = (16,5))\n"
   ]
  },
  {
   "cell_type": "code",
   "execution_count": 6,
   "metadata": {},
   "outputs": [
    {
     "data": {
      "text/plain": [
       "(365, 24)"
      ]
     },
     "execution_count": 6,
     "metadata": {},
     "output_type": "execute_result"
    }
   ],
   "source": [
    "sel = SelectPercentile(mutual_info_classif, percentile=70).fit(X, y)\n",
    "X.columns[sel.get_support()]\n",
    "\n",
    "len(X.columns[sel.get_support()])\n",
    "\n",
    "X_mi = sel.transform(X)\n",
    "\n",
    "X_mi.shape\n"
   ]
  },
  {
   "cell_type": "code",
   "execution_count": 7,
   "metadata": {},
   "outputs": [],
   "source": [
    "def run_randomForest(X,y):\n",
    "    #n_estimators means the no of decision tree it uses\n",
    "    #random_states ensures tht the same sequence of random number generates\n",
    "    \n",
    "    clf = RandomForestClassifier(n_estimators=100, random_state=0, n_jobs=-1)\n",
    "    clf.fit(X, y)\n",
    "    y_pred = clf.predict(X)\n",
    "    print('Accuracy on test set: ')\n",
    "    print(accuracy_score(y, y_pred))"
   ]
  },
  {
   "cell_type": "code",
   "execution_count": 8,
   "metadata": {},
   "outputs": [
    {
     "name": "stdout",
     "output_type": "stream",
     "text": [
      "Accuracy on test set: \n",
      "1.0\n",
      "Wall time: 530 ms\n"
     ]
    }
   ],
   "source": [
    "%%time\n",
    "run_randomForest(X_mi, y)"
   ]
  }
 ],
 "metadata": {
  "kernelspec": {
   "display_name": "Python 3",
   "language": "python",
   "name": "python3"
  },
  "language_info": {
   "codemirror_mode": {
    "name": "ipython",
    "version": 3
   },
   "file_extension": ".py",
   "mimetype": "text/x-python",
   "name": "python",
   "nbconvert_exporter": "python",
   "pygments_lexer": "ipython3",
   "version": "3.7.4"
  }
 },
 "nbformat": 4,
 "nbformat_minor": 4
}
