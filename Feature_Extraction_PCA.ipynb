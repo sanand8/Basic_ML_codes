{
 "cells": [
  {
   "cell_type": "code",
   "execution_count": 1,
   "metadata": {},
   "outputs": [],
   "source": [
    "import pandas as pd \n",
    "import numpy as np \n",
    "import matplotlib.pyplot as plt \n",
    "from sklearn.linear_model import LogisticRegression\n",
    "from sklearn.model_selection import train_test_split\n",
    "from sklearn.preprocessing import StandardScaler\n",
    "from sklearn.impute import SimpleImputer\n",
    "from sklearn.decomposition import PCA"
   ]
  },
  {
   "cell_type": "code",
   "execution_count": 2,
   "metadata": {
    "scrolled": true
   },
   "outputs": [
    {
     "name": "stdout",
     "output_type": "stream",
     "text": [
      "<class 'pandas.core.frame.DataFrame'>\n",
      "RangeIndex: 366 entries, 0 to 365\n",
      "Data columns (total 35 columns):\n",
      "0     366 non-null int64\n",
      "1     366 non-null int64\n",
      "2     366 non-null int64\n",
      "3     366 non-null int64\n",
      "4     366 non-null int64\n",
      "5     366 non-null int64\n",
      "6     366 non-null int64\n",
      "7     366 non-null int64\n",
      "8     366 non-null int64\n",
      "9     366 non-null int64\n",
      "10    366 non-null int64\n",
      "11    366 non-null int64\n",
      "12    366 non-null int64\n",
      "13    366 non-null int64\n",
      "14    366 non-null int64\n",
      "15    366 non-null int64\n",
      "16    366 non-null int64\n",
      "17    366 non-null int64\n",
      "18    366 non-null int64\n",
      "19    366 non-null int64\n",
      "20    366 non-null int64\n",
      "21    366 non-null int64\n",
      "22    366 non-null int64\n",
      "23    366 non-null int64\n",
      "24    366 non-null int64\n",
      "25    366 non-null int64\n",
      "26    366 non-null int64\n",
      "27    366 non-null int64\n",
      "28    366 non-null int64\n",
      "29    366 non-null int64\n",
      "30    366 non-null int64\n",
      "31    366 non-null int64\n",
      "32    366 non-null int64\n",
      "33    366 non-null object\n",
      "34    366 non-null int64\n",
      "dtypes: int64(34), object(1)\n",
      "memory usage: 100.2+ KB\n"
     ]
    }
   ],
   "source": [
    "derma_ds = pd.read_csv('dermatology.data',header=None)\n",
    "derma_ds.info()"
   ]
  },
  {
   "cell_type": "code",
   "execution_count": 3,
   "metadata": {},
   "outputs": [],
   "source": [
    "derma_ds[33] = pd.to_numeric(derma_ds[33], errors='coerce').fillna(0).astype(int)\n",
    "derma_ds[33] = derma_ds[33].replace(to_replace=0,value=int(derma_ds[33].mean()))"
   ]
  },
  {
   "cell_type": "code",
   "execution_count": 4,
   "metadata": {},
   "outputs": [
    {
     "name": "stdout",
     "output_type": "stream",
     "text": [
      "[[ 2  2  0 ...  1  0 55]\n",
      " [ 3  3  3 ...  1  0  8]\n",
      " [ 2  1  2 ...  2  3 26]\n",
      " ...\n",
      " [ 3  2  2 ...  2  3 28]\n",
      " [ 2  1  3 ...  2  3 50]\n",
      " [ 3  2  2 ...  3  0 35]] [2 1 3 1 3 2 5 3 4 4 1 2 2 1 3 4 2 1 3 5 6 2 5 3 5 1 6 5 2 3 1 2 1 1 4 2 3\n",
      " 2 3 1 2 4 1 2 5 3 4 6 2 3 3 4 1 1 5 1 2 3 4 2 6 1 5 1 2 3 1 4 5 1 2 6 3 5\n",
      " 4 2 2 1 3 5 1 2 2 2 5 1 1 3 1 4 2 2 5 1 3 4 2 5 1 6 2 5 1 2 2 1 4 1 3 1 1\n",
      " 3 5 3 3 5 2 3 4 1 2 5 6 1 1 2 6 3 5 4 1 1 3 5 5 1 4 2 3 1 2 1 1 3 3 3 2 5\n",
      " 4 2 2 1 1 1 5 3 2 3 2 2 4 2 3 6 2 1 1 3 4 3 3 1 1 1 3 1 1 2 3 3 1 1 1 1 6\n",
      " 2 2 2 2 1 3 3 3 1 1 2 3 2 2 2 5 5 5 5 5 1 1 1 1 1 1 1 3 3 3 3 3 3 4 4 4 4\n",
      " 5 5 5 5 5 5 5 2 2 2 2 1 1 1 1 1 1 6 6 1 1 1 1 1 1 1 1 3 3 3 3 3 3 3 4 4 4\n",
      " 4 4 4 5 5 5 5 6 6 6 4 4 4 1 1 1 1 1 2 2 4 4 4 1 1 2 2 2 3 3 3 3 1 1 1 1 5\n",
      " 5 5 5 5 3 3 3 4 1 1 4 4 4 1 1 1 3 3 3 3 3 1 1 1 1 4 4 1 1 4 3 3 4 1 1 4 4\n",
      " 5 5 1 1 5 5 3 1 5 5 6 6 4 4 6 6 6 1 1 1 5 5 1 1 1 1 2 2 4 4 3 3 1]\n"
     ]
    }
   ],
   "source": [
    "#Spilitting the DATA\n",
    "x = derma_ds.iloc[:, 0:34].values\n",
    "y = derma_ds.iloc[:,34].values\n",
    "print(x,y)"
   ]
  },
  {
   "cell_type": "code",
   "execution_count": 5,
   "metadata": {},
   "outputs": [
    {
     "data": {
      "text/plain": [
       "array([[-0.1028946 ,  0.29250271, -1.70937509, ..., -1.19445878,\n",
       "        -0.50221531,  1.24105006],\n",
       "       [ 1.40348234,  1.71991595,  1.60084334, ..., -1.19445878,\n",
       "        -0.50221531, -1.88877593],\n",
       "       [-0.1028946 , -1.13491053,  0.49743719, ...,  0.18463243,\n",
       "         2.2142005 , -0.69011917],\n",
       "       ...,\n",
       "       [ 1.40348234,  0.29250271,  0.49743719, ...,  0.18463243,\n",
       "         2.2142005 , -0.55693509],\n",
       "       [-0.1028946 , -1.13491053,  1.60084334, ...,  0.18463243,\n",
       "         2.2142005 ,  0.90808985],\n",
       "       [ 1.40348234,  0.29250271,  0.49743719, ...,  1.56372365,\n",
       "        -0.50221531, -0.09079079]])"
      ]
     },
     "execution_count": 5,
     "metadata": {},
     "output_type": "execute_result"
    }
   ],
   "source": [
    "#Standardize the Data\n",
    "x = StandardScaler().fit_transform(x)\n",
    "x"
   ]
  },
  {
   "cell_type": "code",
   "execution_count": 11,
   "metadata": {},
   "outputs": [
    {
     "name": "stdout",
     "output_type": "stream",
     "text": [
      "[0.27174705 0.16132421]\n"
     ]
    },
    {
     "data": {
      "text/html": [
       "<div>\n",
       "<style scoped>\n",
       "    .dataframe tbody tr th:only-of-type {\n",
       "        vertical-align: middle;\n",
       "    }\n",
       "\n",
       "    .dataframe tbody tr th {\n",
       "        vertical-align: top;\n",
       "    }\n",
       "\n",
       "    .dataframe thead th {\n",
       "        text-align: right;\n",
       "    }\n",
       "</style>\n",
       "<table border=\"1\" class=\"dataframe\">\n",
       "  <thead>\n",
       "    <tr style=\"text-align: right;\">\n",
       "      <th></th>\n",
       "      <th>PC1</th>\n",
       "      <th>PC2</th>\n",
       "      <th>Target</th>\n",
       "    </tr>\n",
       "  </thead>\n",
       "  <tbody>\n",
       "    <tr>\n",
       "      <th>0</th>\n",
       "      <td>0.927264</td>\n",
       "      <td>-2.577342</td>\n",
       "      <td>2</td>\n",
       "    </tr>\n",
       "    <tr>\n",
       "      <th>1</th>\n",
       "      <td>-3.179911</td>\n",
       "      <td>1.962152</td>\n",
       "      <td>1</td>\n",
       "    </tr>\n",
       "    <tr>\n",
       "      <th>2</th>\n",
       "      <td>5.235477</td>\n",
       "      <td>2.100091</td>\n",
       "      <td>3</td>\n",
       "    </tr>\n",
       "    <tr>\n",
       "      <th>3</th>\n",
       "      <td>-4.473468</td>\n",
       "      <td>2.843317</td>\n",
       "      <td>1</td>\n",
       "    </tr>\n",
       "    <tr>\n",
       "      <th>4</th>\n",
       "      <td>4.768139</td>\n",
       "      <td>2.907024</td>\n",
       "      <td>3</td>\n",
       "    </tr>\n",
       "    <tr>\n",
       "      <th>...</th>\n",
       "      <td>...</td>\n",
       "      <td>...</td>\n",
       "      <td>...</td>\n",
       "    </tr>\n",
       "    <tr>\n",
       "      <th>361</th>\n",
       "      <td>0.261636</td>\n",
       "      <td>-2.273186</td>\n",
       "      <td>4</td>\n",
       "    </tr>\n",
       "    <tr>\n",
       "      <th>362</th>\n",
       "      <td>0.291265</td>\n",
       "      <td>-1.597449</td>\n",
       "      <td>4</td>\n",
       "    </tr>\n",
       "    <tr>\n",
       "      <th>363</th>\n",
       "      <td>6.279801</td>\n",
       "      <td>3.011080</td>\n",
       "      <td>3</td>\n",
       "    </tr>\n",
       "    <tr>\n",
       "      <th>364</th>\n",
       "      <td>5.469373</td>\n",
       "      <td>2.526693</td>\n",
       "      <td>3</td>\n",
       "    </tr>\n",
       "    <tr>\n",
       "      <th>365</th>\n",
       "      <td>-4.540046</td>\n",
       "      <td>3.143443</td>\n",
       "      <td>1</td>\n",
       "    </tr>\n",
       "  </tbody>\n",
       "</table>\n",
       "<p>366 rows × 3 columns</p>\n",
       "</div>"
      ],
      "text/plain": [
       "          PC1       PC2  Target\n",
       "0    0.927264 -2.577342       2\n",
       "1   -3.179911  1.962152       1\n",
       "2    5.235477  2.100091       3\n",
       "3   -4.473468  2.843317       1\n",
       "4    4.768139  2.907024       3\n",
       "..        ...       ...     ...\n",
       "361  0.261636 -2.273186       4\n",
       "362  0.291265 -1.597449       4\n",
       "363  6.279801  3.011080       3\n",
       "364  5.469373  2.526693       3\n",
       "365 -4.540046  3.143443       1\n",
       "\n",
       "[366 rows x 3 columns]"
      ]
     },
     "execution_count": 11,
     "metadata": {},
     "output_type": "execute_result"
    }
   ],
   "source": [
    "#PCA feature extraction\n",
    "#we are using only 2 pc \n",
    "pca = PCA(n_components=2)\n",
    "principalComponents = pca.fit_transform(x)\n",
    "print(pca.explained_variance_ratio_)\n",
    "#explained variance ratio tells that how much each of tha pc attributed to info.\n",
    "\n",
    "#creating a heterogenous table \n",
    "Df = pd.DataFrame(data = principalComponents,columns = ['PC1', 'PC2'])\n",
    "#concat function concatinate the data along a single axis\n",
    "finalDf = pd.concat([Df,pd.DataFrame(y,columns=['Target'])], axis = 1)\n",
    "finalDf"
   ]
  },
  {
   "cell_type": "code",
   "execution_count": 7,
   "metadata": {},
   "outputs": [
    {
     "data": {
      "text/plain": [
       "Text(0, 0.5, 'PC2')"
      ]
     },
     "execution_count": 7,
     "metadata": {},
     "output_type": "execute_result"
    },
    {
     "data": {
      "image/png": "[encoded data removed]",
      "text/plain": [
       "<Figure size 864x432 with 1 Axes>"
      ]
     },
     "metadata": {
      "needs_background": "light"
     },
     "output_type": "display_data"
    }
   ],
   "source": [
    "plt.figure(figsize=(12,6))\n",
    "colors = np.array(['red', 'green', 'blue','yellow','black','purple','orange'])\n",
    "plt.scatter(finalDf['PC1'], finalDf['PC2'], c=colors[finalDf['Target']])\n",
    "plt.xlabel('PC1')\n",
    "plt.ylabel('PC2')"
   ]
  },
  {
   "cell_type": "code",
   "execution_count": null,
   "metadata": {},
   "outputs": [],
   "source": []
  }
 ],
 "metadata": {
  "kernelspec": {
   "display_name": "Python 3",
   "language": "python",
   "name": "python3"
  },
  "language_info": {
   "codemirror_mode": {
    "name": "ipython",
    "version": 3
   },
   "file_extension": ".py",
   "mimetype": "text/x-python",
   "name": "python",
   "nbconvert_exporter": "python",
   "pygments_lexer": "ipython3",
   "version": "3.7.4"
  }
 },
 "nbformat": 4,
 "nbformat_minor": 2
}
