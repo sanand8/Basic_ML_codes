{
 "cells": [
  {
   "cell_type": "code",
   "execution_count": 1,
   "metadata": {},
   "outputs": [
    {
     "data": {
      "text/plain": [
       "'\\nGenetic Algorithm to optimize a mathematical function (from Scratch):\\n(1) Objective function f(x)= x3 +9, here x is integer.\\n(2) x must be represented in 6 digits of binary number.\\n(3) Goal: to maximize the objective function.\\n(4) Encoding Scheme is binary.\\n(5) Size of population is 10.\\n(6) Parent selection: Roulette Wheel selection\\n(7) Single point crossover with probability 1\\n(8) Mutation with probability 0.01\\n(9) Survival Selection: Replace 20% worse solutions in children (Offspring) Population with\\n    20% best solution in the parent population.\\n'"
      ]
     },
     "execution_count": 1,
     "metadata": {},
     "output_type": "execute_result"
    }
   ],
   "source": [
    "\"\"\"\n",
    "Genetic Algorithm to optimize a mathematical function (from Scratch):\n",
    "(1) Objective function f(x)= x3 +9, here x is integer.\n",
    "(2) x must be represented in 6 digits of binary number.\n",
    "(3) Goal: to maximize the objective function.\n",
    "(4) Encoding Scheme is binary.\n",
    "(5) Size of population is 10.\n",
    "(6) Parent selection: Roulette Wheel selection\n",
    "(7) Single point crossover with probability 1\n",
    "(8) Mutation with probability 0.01\n",
    "(9) Survival Selection: Replace 20% worse solutions in children (Offspring) Population with\n",
    "    20% best solution in the parent population.\n",
    "\"\"\""
   ]
  },
  {
   "cell_type": "code",
   "execution_count": 2,
   "metadata": {},
   "outputs": [],
   "source": [
    "import pandas as pd \n",
    "import matplotlib.pyplot as plt \n",
    "import numpy as np \n",
    "import math\n",
    "import random"
   ]
  },
  {
   "cell_type": "code",
   "execution_count": 3,
   "metadata": {},
   "outputs": [],
   "source": [
    "def function(x):\n",
    "    return x*x*x + 9"
   ]
  },
  {
   "cell_type": "code",
   "execution_count": 4,
   "metadata": {},
   "outputs": [],
   "source": [
    "def individual_generation(num_of_genes):\n",
    "    return [random.randint(0,1) for x in range(num_of_genes)]"
   ]
  },
  {
   "cell_type": "code",
   "execution_count": 5,
   "metadata": {},
   "outputs": [],
   "source": [
    "def fitness_cal(individual):\n",
    "    m = len(individual)\n",
    "    f = 0\n",
    "    for x in range(m):\n",
    "        f += individual[x]*(2**(m-1-x))\n",
    "    f = function(f)\n",
    "    return f"
   ]
  },
  {
   "cell_type": "code",
   "execution_count": 6,
   "metadata": {},
   "outputs": [],
   "source": [
    "def population_generation(size_of_population, num_of_genes):\n",
    "    population = [individual_generation(num_of_genes) for x in range(size_of_population)]\n",
    "    return population\n"
   ]
  },
  {
   "cell_type": "code",
   "execution_count": 7,
   "metadata": {},
   "outputs": [],
   "source": [
    "def fitness(population,size_of_population):\n",
    "    return [fitness_cal(population[i]) for i in range(size_of_population)]"
   ]
  },
  {
   "cell_type": "code",
   "execution_count": 8,
   "metadata": {},
   "outputs": [],
   "source": [
    "def probability_cal(fitness):\n",
    "    total = float(sum(fitness))\n",
    "    ind_prob = [f/total for f in fitness]\n",
    "    probabilities = [sum(ind_prob[:i+1]) for i in range(len(ind_prob))]\n",
    "    return probabilities"
   ]
  },
  {
   "cell_type": "code",
   "execution_count": 9,
   "metadata": {},
   "outputs": [],
   "source": [
    "def single_point_crossover(ind1,ind2):\n",
    "    m = len(ind1)\n",
    "    t1 = ind1.copy()\n",
    "    t2 = ind2.copy()\n",
    "    for i in range(m//2):\n",
    "        t = t1[i]\n",
    "        t1[i] = t2[i]\n",
    "        t2[i] = t\n",
    "    return t1,t2"
   ]
  },
  {
   "cell_type": "code",
   "execution_count": 10,
   "metadata": {},
   "outputs": [],
   "source": [
    "def roulette_selection(population,number,probabilities):\n",
    "    chosen = []\n",
    "    for n in range(number):\n",
    "        r = random.random()\n",
    "        for i in range(len(population)):\n",
    "            if(r <= probabilities[i]):\n",
    "                chosen.append(population[i])\n",
    "                break\n",
    "    return chosen"
   ]
  },
  {
   "cell_type": "code",
   "execution_count": 11,
   "metadata": {},
   "outputs": [],
   "source": [
    "def mutation(individual,p):\n",
    "    for i in range(len(individual)):\n",
    "        r = random.random()\n",
    "        if(r <= p):\n",
    "            if(individual[i] == 0):\n",
    "                individual[i] = 1 \n",
    "            else:\n",
    "                individual[i] = 0\n",
    "    return individual"
   ]
  },
  {
   "cell_type": "code",
   "execution_count": 12,
   "metadata": {},
   "outputs": [],
   "source": [
    "def max_two(parents_fit):\n",
    "    l = len(parents_fit)\n",
    "    i1 = parents_fit.index(max(parents_fit))\n",
    "    t = -99999\n",
    "    i2 = -1\n",
    "    for i in range(l):\n",
    "        if((parents_fit[i] > t) and (i != i1)):\n",
    "            t = parents_fit[i]\n",
    "            i2 = i\n",
    "    return i1,i2"
   ]
  },
  {
   "cell_type": "code",
   "execution_count": 13,
   "metadata": {},
   "outputs": [],
   "source": [
    "def min_two(offspring):\n",
    "    l = len(offspring_fit)\n",
    "    i1 = offspring_fit.index(min(offspring_fit))\n",
    "    t = 9999999\n",
    "    i2 = -1\n",
    "    for i in range(l):\n",
    "        if((offspring_fit[i] < t) and (i != i1)):\n",
    "            t = offspring_fit[i]\n",
    "            i2 = i\n",
    "    return i1,i2"
   ]
  },
  {
   "cell_type": "code",
   "execution_count": 14,
   "metadata": {},
   "outputs": [
    {
     "name": "stdout",
     "output_type": "stream",
     "text": [
      "After Generation  0 : 226990\n",
      "After Generation  1 : 238337\n",
      "After Generation  2 : 238337\n",
      "After Generation  3 : 238337\n",
      "After Generation  4 : 250056\n",
      "After Generation  5 : 250056\n",
      "After Generation  6 : 250056\n",
      "After Generation  7 : 250056\n",
      "After Generation  8 : 250056\n",
      "After Generation  9 : 250056\n",
      "After Generation  10 : 250056\n",
      "After Generation  11 : 250056\n",
      "After Generation  12 : 250056\n",
      "After Generation  13 : 250056\n",
      "After Generation  14 : 250056\n",
      "After Generation  15 : 250056\n",
      "After Generation  16 : 250056\n",
      "After Generation  17 : 250056\n",
      "After Generation  18 : 250056\n",
      "After Generation  19 : 250056\n",
      "After Generation  20 : 250056\n",
      "After Generation  21 : 250056\n",
      "After Generation  22 : 250056\n",
      "After Generation  23 : 250056\n",
      "After Generation  24 : 250056\n",
      "After Generation  25 : 250056\n",
      "After Generation  26 : 250056\n",
      "After Generation  27 : 250056\n",
      "After Generation  28 : 250056\n",
      "After Generation  29 : 250056\n",
      "After Generation  30 : 250056\n",
      "After Generation  31 : 250056\n",
      "After Generation  32 : 250056\n",
      "After Generation  33 : 250056\n",
      "After Generation  34 : 250056\n",
      "After Generation  35 : 250056\n",
      "After Generation  36 : 250056\n",
      "After Generation  37 : 250056\n",
      "After Generation  38 : 250056\n",
      "After Generation  39 : 250056\n",
      "After Generation  40 : 250056\n",
      "After Generation  41 : 250056\n",
      "After Generation  42 : 250056\n",
      "After Generation  43 : 250056\n",
      "After Generation  44 : 250056\n",
      "After Generation  45 : 250056\n",
      "After Generation  46 : 250056\n",
      "After Generation  47 : 250056\n",
      "After Generation  48 : 250056\n",
      "After Generation  49 : 250056\n",
      "After Generation  50 : 250056\n",
      "After Generation  51 : 250056\n",
      "After Generation  52 : 250056\n",
      "After Generation  53 : 250056\n",
      "After Generation  54 : 250056\n",
      "After Generation  55 : 250056\n",
      "After Generation  56 : 250056\n",
      "After Generation  57 : 250056\n",
      "After Generation  58 : 250056\n",
      "After Generation  59 : 250056\n",
      "After Generation  60 : 250056\n",
      "After Generation  61 : 250056\n",
      "After Generation  62 : 250056\n",
      "After Generation  63 : 250056\n",
      "After Generation  64 : 250056\n",
      "After Generation  65 : 250056\n",
      "After Generation  66 : 250056\n",
      "After Generation  67 : 250056\n",
      "After Generation  68 : 250056\n",
      "After Generation  69 : 250056\n",
      "After Generation  70 : 250056\n",
      "After Generation  71 : 250056\n",
      "After Generation  72 : 250056\n",
      "After Generation  73 : 250056\n",
      "After Generation  74 : 250056\n",
      "After Generation  75 : 250056\n",
      "After Generation  76 : 250056\n",
      "After Generation  77 : 250056\n",
      "After Generation  78 : 250056\n",
      "After Generation  79 : 250056\n",
      "After Generation  80 : 250056\n",
      "After Generation  81 : 250056\n",
      "After Generation  82 : 250056\n",
      "After Generation  83 : 250056\n",
      "After Generation  84 : 250056\n",
      "After Generation  85 : 250056\n",
      "After Generation  86 : 250056\n",
      "After Generation  87 : 250056\n",
      "After Generation  88 : 250056\n",
      "After Generation  89 : 250056\n",
      "After Generation  90 : 250056\n",
      "After Generation  91 : 250056\n",
      "After Generation  92 : 250056\n",
      "After Generation  93 : 250056\n",
      "After Generation  94 : 250056\n",
      "After Generation  95 : 250056\n",
      "After Generation  96 : 250056\n",
      "After Generation  97 : 250056\n",
      "After Generation  98 : 250056\n",
      "After Generation  99 : 250056\n"
     ]
    }
   ],
   "source": [
    "SOP = 10\n",
    "population = population_generation(SOP,6)\n",
    "\n",
    "num_itr = 100\n",
    "mp = 0.01\n",
    "for x in range(num_itr):\n",
    "    fit = fitness(population,SOP)\n",
    "    probabilities = probability_cal(fit)\n",
    "    parents = roulette_selection(population,10,probabilities)\n",
    "    parents_fit = fitness(parents,10)\n",
    "    offspring = []\n",
    "    i = 0\n",
    "    while(i < 10):\n",
    "        t1,t2 = single_point_crossover(parents[i],parents[i+1])\n",
    "        offspring.append(t1)\n",
    "        offspring.append(t2)\n",
    "        mutation(offspring[i],mp)\n",
    "        mutation(offspring[i+1],mp)\n",
    "        i += 2\n",
    "    offspring_fit = fitness(offspring,10)\n",
    "    i1,i2 = max_two(parents_fit)\n",
    "    i3,i4 = min_two(offspring)\n",
    "    offspring[i3] = parents[i1]\n",
    "    offspring[i4] = parents[i2]\n",
    "    \n",
    "    print('After Generation ',x,':',max(fit))\n",
    "    \n",
    "    if(x == k)\n",
    "        break\n",
    "    k = x\n",
    "    population = offspring"
   ]
  }
 ],
 "metadata": {
  "kernelspec": {
   "display_name": "Python 3",
   "language": "python",
   "name": "python3"
  },
  "language_info": {
   "codemirror_mode": {
    "name": "ipython",
    "version": 3
   },
   "file_extension": ".py",
   "mimetype": "text/x-python",
   "name": "python",
   "nbconvert_exporter": "python",
   "pygments_lexer": "ipython3",
   "version": "3.7.4"
  }
 },
 "nbformat": 4,
 "nbformat_minor": 4
}
