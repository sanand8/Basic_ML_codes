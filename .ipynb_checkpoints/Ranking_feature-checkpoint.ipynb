{
 "cells": [
  {
   "cell_type": "code",
   "execution_count": 2,
   "metadata": {},
   "outputs": [],
   "source": [
    "import numpy as np\n",
    "import pandas as pd\n",
    "import matplotlib.pyplot as plt"
   ]
  },
  {
   "cell_type": "code",
   "execution_count": 3,
   "metadata": {},
   "outputs": [
    {
     "data": {
      "text/plain": [
       "array([4.40689480e-01, 4.90795485e-01, 8.21351787e-01, 1.29218549e+00,\n",
       "       8.22240139e-01, 9.13971752e-01, 3.24681239e-01, 6.93899489e-01,\n",
       "       9.63607453e-01, 8.17940219e-01, 1.09886829e-01, 7.54516408e-01,\n",
       "       1.69107767e-01, 6.63143122e-01, 7.25857744e-01, 1.21640688e+00,\n",
       "       5.06285646e-01, 5.71657858e-01, 8.39618979e-01, 1.11383589e+00,\n",
       "       1.34692735e+00, 1.06814178e+00, 4.48445758e-01, 5.75599451e-01,\n",
       "       7.19519842e-01, 7.46006151e-01, 9.09291111e-01, 1.27379886e+00,\n",
       "       9.09044761e-01, 2.02335095e-01, 2.38197617e-01, 5.25792051e-01,\n",
       "       1.21969154e+00, 2.29067253e+02])"
      ]
     },
     "execution_count": 3,
     "metadata": {},
     "output_type": "execute_result"
    }
   ],
   "source": [
    "data = pd.read_csv('dermatology_csv.csv')\n",
    "data.head()\n",
    "\n",
    "X = data.iloc[:,0:34]\n",
    "\n",
    "y = data.iloc[:,-1]\n",
    "\n",
    "from sklearn.impute import SimpleImputer\n",
    "imputer = SimpleImputer(missing_values=np.nan,strategy ='mean')\n",
    "imputer = imputer.fit(X)\n",
    "X = imputer.transform(X)\n",
    "\n",
    "variance = np.var(X,axis=0)\n",
    "ele = sorted(variance,reverse=True)"
   ]
  },
  {
   "cell_type": "code",
   "execution_count": 51,
   "metadata": {},
   "outputs": [
    {
     "name": "stdout",
     "output_type": "stream",
     "text": [
      "34\n",
      "21\n",
      "4\n",
      "28\n",
      "33\n",
      "16\n",
      "20\n",
      "22\n",
      "9\n",
      "6\n",
      "27\n",
      "29\n",
      "19\n",
      "5\n",
      "3\n",
      "10\n",
      "12\n",
      "26\n",
      "15\n",
      "25\n",
      "8\n",
      "14\n",
      "24\n",
      "18\n",
      "32\n",
      "17\n",
      "2\n",
      "23\n",
      "1\n",
      "7\n",
      "31\n",
      "30\n",
      "13\n",
      "11\n"
     ]
    }
   ],
   "source": [
    "for i in range(len(ele)):\n",
    "    for j in range(len(variance)):\n",
    "        if(variance[j]==ele[i]):\n",
    "            print(j+1)\n",
    "        "
   ]
  }
 ],
 "metadata": {
  "kernelspec": {
   "display_name": "Python 3",
   "language": "python",
   "name": "python3"
  },
  "language_info": {
   "codemirror_mode": {
    "name": "ipython",
    "version": 3
   },
   "file_extension": ".py",
   "mimetype": "text/x-python",
   "name": "python",
   "nbconvert_exporter": "python",
   "pygments_lexer": "ipython3",
   "version": "3.7.4"
  }
 },
 "nbformat": 4,
 "nbformat_minor": 2
}
