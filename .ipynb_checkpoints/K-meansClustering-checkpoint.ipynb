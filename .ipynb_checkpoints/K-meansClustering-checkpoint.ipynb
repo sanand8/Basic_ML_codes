{
 "cells": [
  {
   "cell_type": "code",
   "execution_count": 3,
   "metadata": {},
   "outputs": [
    {
     "data": {
      "text/plain": [
       "(150, 4)"
      ]
     },
     "execution_count": 3,
     "metadata": {},
     "output_type": "execute_result"
    }
   ],
   "source": [
    "import pandas as pd\n",
    "import numpy as np\n",
    "import matplotlib.pyplot as plt\n",
    "\n",
    "data = pd.read_csv(\"irisn.csv\",delimiter=',')\n",
    "data_rows = data.shape[0]\n",
    "data_cols = data.shape[1]\n",
    "\n",
    "\n",
    "data_needed = data.iloc[:,:-1] #class column not needed for computation\n",
    "data_needed_np = data_needed.to_numpy()\n",
    "\n",
    "data_needed_np.shape"
   ]
  },
  {
   "cell_type": "code",
   "execution_count": 4,
   "metadata": {},
   "outputs": [
    {
     "name": "stdout",
     "output_type": "stream",
     "text": [
      "[680.8244      76.18435324  26.31502194  14.33635233   9.94265084\n",
      "   7.93792958   4.94764541   8.47145487   3.22965858   3.2483702 ]\n"
     ]
    },
    {
     "data": {
      "image/png": "[encoded data removed]",
      "text/plain": [
       "<Figure size 432x288 with 1 Axes>"
      ]
     },
     "metadata": {
      "needs_background": "light"
     },
     "output_type": "display_data"
    }
   ],
   "source": [
    "K = 0\n",
    "sse = np.zeros(10)\n",
    "while K<10 :\n",
    "    K += 1\n",
    "    cluster_assignments = np.empty(data_rows)\n",
    "    centroids = data_needed_np[np.random.choice(data_rows, size=K, replace=False),:]\n",
    "    areCentroidsSame = False\n",
    "    maxIterations = 100 # no of iterations\n",
    "    while maxIterations>0 and not(areCentroidsSame) :\n",
    "        summ = 0.0\n",
    "        for index in range(data_rows) :\n",
    "            this_instance = data_needed_np[index]\n",
    "            #calculating euclidian distance and assigning the instance to the min distant cluster\n",
    "            min_distance = float(\"inf\")\n",
    "            for indexCluster in range(K) :\n",
    "                distance = np.linalg.norm(this_instance - centroids[indexCluster]) #calculating euclidian distance\n",
    "                if distance < min_distance :\n",
    "                    cluster_assignments[index] = indexCluster #assigning the instance to the min distant cluster\n",
    "                    min_distance = distance #updating min distance\n",
    "            summ += (min_distance**2)\n",
    "        old_centroids = centroids.copy() #current centroids copied as it might change on updation\n",
    "        #updation of centroids\n",
    "        for indexCentroidRow in range(K) : #for each entry in centroids\n",
    "            for indexCentroidCol in range(data_needed_np.shape[1]) :\n",
    "                runningSum = 0.0\n",
    "                count = 0.0\n",
    "                average = None\n",
    "                for index in range(data_rows) :\n",
    "                    if cluster_assignments[index]==indexCentroidRow :\n",
    "                        runningSum += data_needed_np[index,indexCentroidCol]\n",
    "                        count += 1\n",
    "                    \n",
    "                if count>0 :\n",
    "                    average = runningSum / count     \n",
    "                    centroids[indexCentroidRow,indexCentroidCol] = average\n",
    "                    \n",
    "        #array_equal is a function in numpy to test if two arrays are equal or not\n",
    "        areCentroidsSame = np.array_equal(old_centroids, centroids) \n",
    "        \n",
    "        maxIterations -= 1\n",
    "    \n",
    "    d = np.zeros(K)\n",
    "    for i in range(K) :\n",
    "        for j in range(data_rows) :\n",
    "            for m in range(data_cols-1) :\n",
    "                if cluster_assignments[j]==i :\n",
    "                    d[i] = d[i] + ((data_needed_np[j][m] - centroids[i][m])**2)\n",
    "        #print(d[i])\n",
    "        sse[K-1] += d[i]\n",
    "    sse[K-1] /= float(K)\n",
    "print(sse)\n",
    "\n",
    "plt.xlim(1,11)\n",
    "plt.ylim(0,100)\n",
    "plt.plot(sse)\n",
    "plt.show()"
   ]
  }
 ],
 "metadata": {
  "kernelspec": {
   "display_name": "Python 3",
   "language": "python",
   "name": "python3"
  },
  "language_info": {
   "codemirror_mode": {
    "name": "ipython",
    "version": 3
   },
   "file_extension": ".py",
   "mimetype": "text/x-python",
   "name": "python",
   "nbconvert_exporter": "python",
   "pygments_lexer": "ipython3",
   "version": "3.7.4"
  }
 },
 "nbformat": 4,
 "nbformat_minor": 4
}
