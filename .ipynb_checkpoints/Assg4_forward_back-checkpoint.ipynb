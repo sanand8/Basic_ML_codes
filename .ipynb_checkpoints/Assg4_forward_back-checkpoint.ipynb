{
 "cells": [
  {
   "cell_type": "code",
   "execution_count": 1,
   "metadata": {
    "scrolled": false
   },
   "outputs": [
    {
     "name": "stdout",
     "output_type": "stream",
     "text": [
      "Requirement already satisfied: mlxtend in c:\\python37\\lib\\site-packages (0.17.1)\n",
      "Requirement already satisfied: joblib>=0.13.2 in c:\\python37\\lib\\site-packages (from mlxtend) (0.14.1)\n",
      "Requirement already satisfied: matplotlib>=3.0.0 in c:\\python37\\lib\\site-packages (from mlxtend) (3.1.2)\n",
      "Requirement already satisfied: scipy>=1.2.1 in c:\\python37\\lib\\site-packages (from mlxtend) (1.4.1)\n",
      "Requirement already satisfied: scikit-learn>=0.20.3 in c:\\python37\\lib\\site-packages (from mlxtend) (0.22.1)\n",
      "Requirement already satisfied: setuptools in c:\\python37\\lib\\site-packages (from mlxtend) (46.2.0)\n",
      "Requirement already satisfied: numpy>=1.16.2 in c:\\python37\\lib\\site-packages (from mlxtend) (1.18.1)\n",
      "Requirement already satisfied: pandas>=0.24.2 in c:\\python37\\lib\\site-packages (from mlxtend) (0.25.3)\n",
      "Requirement already satisfied: kiwisolver>=1.0.1 in c:\\python37\\lib\\site-packages (from matplotlib>=3.0.0->mlxtend) (1.1.0)\n",
      "Requirement already satisfied: cycler>=0.10 in c:\\python37\\lib\\site-packages (from matplotlib>=3.0.0->mlxtend) (0.10.0)\n",
      "Requirement already satisfied: python-dateutil>=2.1 in c:\\python37\\lib\\site-packages (from matplotlib>=3.0.0->mlxtend) (2.8.1)\n",
      "Requirement already satisfied: pyparsing!=2.0.4,!=2.1.2,!=2.1.6,>=2.0.1 in c:\\python37\\lib\\site-packages (from matplotlib>=3.0.0->mlxtend) (2.4.6)\n",
      "Requirement already satisfied: pytz>=2017.2 in c:\\python37\\lib\\site-packages (from pandas>=0.24.2->mlxtend) (2019.3)\n",
      "Requirement already satisfied: six in c:\\python37\\lib\\site-packages (from cycler>=0.10->matplotlib>=3.0.0->mlxtend) (1.13.0)\n"
     ]
    }
   ],
   "source": [
    "!pip install mlxtend"
   ]
  },
  {
   "cell_type": "code",
   "execution_count": 2,
   "metadata": {},
   "outputs": [],
   "source": [
    "import pandas as pd\n",
    "import numpy as np\n",
    "import matplotlib.pyplot as plt\n",
    "%matplotlib inline"
   ]
  },
  {
   "cell_type": "code",
   "execution_count": 3,
   "metadata": {},
   "outputs": [],
   "source": [
    "from sklearn.model_selection import train_test_split\n",
    "from sklearn.ensemble import RandomForestClassifier\n",
    "from sklearn.metrics import accuracy_score, roc_auc_score\n",
    "from sklearn.feature_selection import VarianceThreshold\n",
    "from sklearn.preprocessing import StandardScaler\n",
    "from mlxtend.feature_selection import SequentialFeatureSelector as SFS"
   ]
  },
  {
   "cell_type": "code",
   "execution_count": 5,
   "metadata": {},
   "outputs": [],
   "source": [
    "data = pd.read_csv('dermatology_csv.csv')\n",
    "data.head()\n",
    "\n",
    "X = data.iloc[:,0:34]\n",
    "\n",
    "y = data.iloc[:,-1]\n",
    "\n",
    "from sklearn.impute import SimpleImputer\n",
    "imputer = SimpleImputer(missing_values=np.nan,strategy ='mean')\n",
    "imputer = imputer.fit(X)\n",
    "X = imputer.transform(X)"
   ]
  },
  {
   "cell_type": "code",
   "execution_count": 6,
   "metadata": {},
   "outputs": [
    {
     "name": "stderr",
     "output_type": "stream",
     "text": [
      "[Parallel(n_jobs=-1)]: Using backend LokyBackend with 4 concurrent workers.\n",
      "[Parallel(n_jobs=-1)]: Done  34 out of  34 | elapsed:   26.5s finished\n",
      "\n",
      "[2020-05-25 03:06:26] Features: 1/9 -- score: 0.5041208791208791[Parallel(n_jobs=-1)]: Using backend LokyBackend with 4 concurrent workers.\n",
      "[Parallel(n_jobs=-1)]: Done  33 out of  33 | elapsed:   23.1s finished\n",
      "\n",
      "[2020-05-25 03:06:50] Features: 2/9 -- score: 0.6768096034400382[Parallel(n_jobs=-1)]: Using backend LokyBackend with 4 concurrent workers.\n",
      "[Parallel(n_jobs=-1)]: Done  32 out of  32 | elapsed:   21.9s finished\n",
      "\n",
      "[2020-05-25 03:07:12] Features: 3/9 -- score: 0.7946428571428571[Parallel(n_jobs=-1)]: Using backend LokyBackend with 4 concurrent workers.\n",
      "[Parallel(n_jobs=-1)]: Done  31 out of  31 | elapsed:   21.5s finished\n",
      "\n",
      "[2020-05-25 03:07:33] Features: 4/9 -- score: 0.8712075967510751[Parallel(n_jobs=-1)]: Using backend LokyBackend with 4 concurrent workers.\n",
      "[Parallel(n_jobs=-1)]: Done  30 out of  30 | elapsed:   21.8s finished\n",
      "\n",
      "[2020-05-25 03:07:55] Features: 5/9 -- score: 0.915133779264214[Parallel(n_jobs=-1)]: Using backend LokyBackend with 4 concurrent workers.\n",
      "[Parallel(n_jobs=-1)]: Done  29 out of  29 | elapsed:   21.0s finished\n",
      "\n",
      "[2020-05-25 03:08:16] Features: 6/9 -- score: 0.9370222169135214[Parallel(n_jobs=-1)]: Using backend LokyBackend with 4 concurrent workers.\n",
      "[Parallel(n_jobs=-1)]: Done  28 out of  28 | elapsed:   20.1s finished\n",
      "\n",
      "[2020-05-25 03:08:36] Features: 7/9 -- score: 0.9644648829431439[Parallel(n_jobs=-1)]: Using backend LokyBackend with 4 concurrent workers.\n",
      "[Parallel(n_jobs=-1)]: Done  27 out of  27 | elapsed:   19.2s finished\n",
      "\n",
      "[2020-05-25 03:08:56] Features: 8/9 -- score: 0.9644648829431439[Parallel(n_jobs=-1)]: Using backend LokyBackend with 4 concurrent workers.\n",
      "[Parallel(n_jobs=-1)]: Done  26 out of  26 | elapsed:   18.7s finished\n",
      "\n",
      "[2020-05-25 03:09:15] Features: 9/9 -- score: 0.9644648829431439"
     ]
    }
   ],
   "source": [
    "sfs = SFS(RandomForestClassifier(n_estimators=100, random_state=0, n_jobs = -1),\n",
    "         k_features = 9,\n",
    "          forward= True, \n",
    "          verbose= 2,\n",
    "          scoring= 'accuracy',\n",
    "          #cv is cross validation\n",
    "          cv = 4,\n",
    "          n_jobs= -1\n",
    "         ).fit(X, y)"
   ]
  },
  {
   "cell_type": "code",
   "execution_count": 6,
   "metadata": {},
   "outputs": [
    {
     "data": {
      "text/plain": [
       "('4', '7', '13', '14', '20', '23', '27', '29', '32')"
      ]
     },
     "execution_count": 6,
     "metadata": {},
     "output_type": "execute_result"
    }
   ],
   "source": [
    "sfs.k_feature_names_"
   ]
  },
  {
   "cell_type": "code",
   "execution_count": 7,
   "metadata": {},
   "outputs": [
    {
     "data": {
      "text/plain": [
       "0.9644648829431439"
      ]
     },
     "execution_count": 7,
     "metadata": {},
     "output_type": "execute_result"
    }
   ],
   "source": [
    "sfs.k_score_"
   ]
  },
  {
   "cell_type": "code",
   "execution_count": 8,
   "metadata": {},
   "outputs": [
    {
     "data": {
      "text/html": [
       "<div>\n",
       "<style scoped>\n",
       "    .dataframe tbody tr th:only-of-type {\n",
       "        vertical-align: middle;\n",
       "    }\n",
       "\n",
       "    .dataframe tbody tr th {\n",
       "        vertical-align: top;\n",
       "    }\n",
       "\n",
       "    .dataframe thead th {\n",
       "        text-align: right;\n",
       "    }\n",
       "</style>\n",
       "<table border=\"1\" class=\"dataframe\">\n",
       "  <thead>\n",
       "    <tr style=\"text-align: right;\">\n",
       "      <th></th>\n",
       "      <th>feature_idx</th>\n",
       "      <th>cv_scores</th>\n",
       "      <th>avg_score</th>\n",
       "      <th>feature_names</th>\n",
       "      <th>ci_bound</th>\n",
       "      <th>std_dev</th>\n",
       "      <th>std_err</th>\n",
       "    </tr>\n",
       "  </thead>\n",
       "  <tbody>\n",
       "    <tr>\n",
       "      <th>1</th>\n",
       "      <td>(20,)</td>\n",
       "      <td>[0.5, 0.5054945054945055, 0.5054945054945055, ...</td>\n",
       "      <td>0.504121</td>\n",
       "      <td>(20,)</td>\n",
       "      <td>0.0038138</td>\n",
       "      <td>0.00237919</td>\n",
       "      <td>0.00137363</td>\n",
       "    </tr>\n",
       "    <tr>\n",
       "      <th>2</th>\n",
       "      <td>(13, 20)</td>\n",
       "      <td>[0.6413043478260869, 0.7472527472527473, 0.659...</td>\n",
       "      <td>0.67681</td>\n",
       "      <td>(13, 20)</td>\n",
       "      <td>0.0662537</td>\n",
       "      <td>0.0413315</td>\n",
       "      <td>0.0238628</td>\n",
       "    </tr>\n",
       "    <tr>\n",
       "      <th>3</th>\n",
       "      <td>(13, 20, 32)</td>\n",
       "      <td>[0.75, 0.8791208791208791, 0.7802197802197802,...</td>\n",
       "      <td>0.794643</td>\n",
       "      <td>(13, 20, 32)</td>\n",
       "      <td>0.0800822</td>\n",
       "      <td>0.0499583</td>\n",
       "      <td>0.0288434</td>\n",
       "    </tr>\n",
       "    <tr>\n",
       "      <th>4</th>\n",
       "      <td>(13, 14, 20, 32)</td>\n",
       "      <td>[0.8804347826086957, 0.8901098901098901, 0.846...</td>\n",
       "      <td>0.871208</td>\n",
       "      <td>(13, 14, 20, 32)</td>\n",
       "      <td>0.0263346</td>\n",
       "      <td>0.0164285</td>\n",
       "      <td>0.00948502</td>\n",
       "    </tr>\n",
       "    <tr>\n",
       "      <th>5</th>\n",
       "      <td>(13, 14, 20, 29, 32)</td>\n",
       "      <td>[0.8913043478260869, 0.945054945054945, 0.9010...</td>\n",
       "      <td>0.915134</td>\n",
       "      <td>(13, 14, 20, 29, 32)</td>\n",
       "      <td>0.0332709</td>\n",
       "      <td>0.0207557</td>\n",
       "      <td>0.0119833</td>\n",
       "    </tr>\n",
       "    <tr>\n",
       "      <th>6</th>\n",
       "      <td>(13, 14, 20, 27, 29, 32)</td>\n",
       "      <td>[0.9239130434782609, 0.978021978021978, 0.9230...</td>\n",
       "      <td>0.937022</td>\n",
       "      <td>(13, 14, 20, 27, 29, 32)</td>\n",
       "      <td>0.0379485</td>\n",
       "      <td>0.0236737</td>\n",
       "      <td>0.013668</td>\n",
       "    </tr>\n",
       "    <tr>\n",
       "      <th>7</th>\n",
       "      <td>(4, 13, 14, 20, 27, 29, 32)</td>\n",
       "      <td>[0.9347826086956522, 0.989010989010989, 0.9560...</td>\n",
       "      <td>0.964465</td>\n",
       "      <td>(4, 13, 14, 20, 27, 29, 32)</td>\n",
       "      <td>0.0334161</td>\n",
       "      <td>0.0208462</td>\n",
       "      <td>0.0120356</td>\n",
       "    </tr>\n",
       "    <tr>\n",
       "      <th>8</th>\n",
       "      <td>(4, 13, 14, 20, 23, 27, 29, 32)</td>\n",
       "      <td>[0.9347826086956522, 0.989010989010989, 0.9560...</td>\n",
       "      <td>0.964465</td>\n",
       "      <td>(4, 13, 14, 20, 23, 27, 29, 32)</td>\n",
       "      <td>0.0334161</td>\n",
       "      <td>0.0208462</td>\n",
       "      <td>0.0120356</td>\n",
       "    </tr>\n",
       "    <tr>\n",
       "      <th>9</th>\n",
       "      <td>(4, 7, 13, 14, 20, 23, 27, 29, 32)</td>\n",
       "      <td>[0.9347826086956522, 0.989010989010989, 0.9560...</td>\n",
       "      <td>0.964465</td>\n",
       "      <td>(4, 7, 13, 14, 20, 23, 27, 29, 32)</td>\n",
       "      <td>0.0334161</td>\n",
       "      <td>0.0208462</td>\n",
       "      <td>0.0120356</td>\n",
       "    </tr>\n",
       "  </tbody>\n",
       "</table>\n",
       "</div>"
      ],
      "text/plain": [
       "                          feature_idx  \\\n",
       "1                               (20,)   \n",
       "2                            (13, 20)   \n",
       "3                        (13, 20, 32)   \n",
       "4                    (13, 14, 20, 32)   \n",
       "5                (13, 14, 20, 29, 32)   \n",
       "6            (13, 14, 20, 27, 29, 32)   \n",
       "7         (4, 13, 14, 20, 27, 29, 32)   \n",
       "8     (4, 13, 14, 20, 23, 27, 29, 32)   \n",
       "9  (4, 7, 13, 14, 20, 23, 27, 29, 32)   \n",
       "\n",
       "                                           cv_scores avg_score  \\\n",
       "1  [0.5, 0.5054945054945055, 0.5054945054945055, ...  0.504121   \n",
       "2  [0.6413043478260869, 0.7472527472527473, 0.659...   0.67681   \n",
       "3  [0.75, 0.8791208791208791, 0.7802197802197802,...  0.794643   \n",
       "4  [0.8804347826086957, 0.8901098901098901, 0.846...  0.871208   \n",
       "5  [0.8913043478260869, 0.945054945054945, 0.9010...  0.915134   \n",
       "6  [0.9239130434782609, 0.978021978021978, 0.9230...  0.937022   \n",
       "7  [0.9347826086956522, 0.989010989010989, 0.9560...  0.964465   \n",
       "8  [0.9347826086956522, 0.989010989010989, 0.9560...  0.964465   \n",
       "9  [0.9347826086956522, 0.989010989010989, 0.9560...  0.964465   \n",
       "\n",
       "                        feature_names   ci_bound     std_dev     std_err  \n",
       "1                               (20,)  0.0038138  0.00237919  0.00137363  \n",
       "2                            (13, 20)  0.0662537   0.0413315   0.0238628  \n",
       "3                        (13, 20, 32)  0.0800822   0.0499583   0.0288434  \n",
       "4                    (13, 14, 20, 32)  0.0263346   0.0164285  0.00948502  \n",
       "5                (13, 14, 20, 29, 32)  0.0332709   0.0207557   0.0119833  \n",
       "6            (13, 14, 20, 27, 29, 32)  0.0379485   0.0236737    0.013668  \n",
       "7         (4, 13, 14, 20, 27, 29, 32)  0.0334161   0.0208462   0.0120356  \n",
       "8     (4, 13, 14, 20, 23, 27, 29, 32)  0.0334161   0.0208462   0.0120356  \n",
       "9  (4, 7, 13, 14, 20, 23, 27, 29, 32)  0.0334161   0.0208462   0.0120356  "
      ]
     },
     "execution_count": 8,
     "metadata": {},
     "output_type": "execute_result"
    }
   ],
   "source": [
    "pd.DataFrame.from_dict(sfs.get_metric_dict()).T"
   ]
  },
  {
   "cell_type": "code",
   "execution_count": 9,
   "metadata": {},
   "outputs": [
    {
     "name": "stderr",
     "output_type": "stream",
     "text": [
      "[Parallel(n_jobs=-1)]: Using backend LokyBackend with 4 concurrent workers.\n",
      "[Parallel(n_jobs=-1)]: Done  34 out of  34 | elapsed:   22.6s finished\n",
      "\n",
      "[2020-05-19 17:42:09] Features: 1/9 -- score: 0.5041208791208791[Parallel(n_jobs=-1)]: Using backend LokyBackend with 4 concurrent workers.\n",
      "[Parallel(n_jobs=-1)]: Done  33 out of  33 | elapsed:   22.5s finished\n",
      "\n",
      "[2020-05-19 17:42:31] Features: 2/9 -- score: 0.6768096034400382[Parallel(n_jobs=-1)]: Using backend LokyBackend with 4 concurrent workers.\n",
      "[Parallel(n_jobs=-1)]: Done  32 out of  32 | elapsed:   20.5s finished\n",
      "\n",
      "[2020-05-19 17:42:52] Features: 3/9 -- score: 0.7946428571428571[Parallel(n_jobs=-1)]: Using backend LokyBackend with 4 concurrent workers.\n",
      "[Parallel(n_jobs=-1)]: Done  31 out of  31 | elapsed:   20.3s finished\n",
      "\n",
      "[2020-05-19 17:43:13] Features: 4/9 -- score: 0.8712075967510751[Parallel(n_jobs=-1)]: Using backend LokyBackend with 4 concurrent workers.\n",
      "[Parallel(n_jobs=-1)]: Done  30 out of  30 | elapsed:   20.2s finished\n",
      "\n",
      "[2020-05-19 17:43:33] Features: 5/9 -- score: 0.915133779264214[Parallel(n_jobs=-1)]: Using backend LokyBackend with 4 concurrent workers.\n",
      "[Parallel(n_jobs=-1)]: Done  29 out of  29 | elapsed:   20.7s finished\n",
      "\n",
      "[2020-05-19 17:43:54] Features: 6/9 -- score: 0.9370222169135214[Parallel(n_jobs=-1)]: Using backend LokyBackend with 4 concurrent workers.\n",
      "[Parallel(n_jobs=-1)]: Done  28 out of  28 | elapsed:   20.4s finished\n",
      "\n",
      "[2020-05-19 17:44:14] Features: 7/9 -- score: 0.9644648829431439[Parallel(n_jobs=-1)]: Using backend LokyBackend with 4 concurrent workers.\n",
      "[Parallel(n_jobs=-1)]: Done  27 out of  27 | elapsed:   17.2s finished\n",
      "\n",
      "[2020-05-19 17:44:31] Features: 8/9 -- score: 0.9644648829431439[Parallel(n_jobs=-1)]: Using backend LokyBackend with 4 concurrent workers.\n",
      "[Parallel(n_jobs=-1)]: Done  26 out of  26 | elapsed:   17.1s finished\n",
      "\n",
      "[2020-05-19 17:44:49] Features: 9/9 -- score: 0.9644648829431439"
     ]
    }
   ],
   "source": [
    "sfs = SFS(RandomForestClassifier(n_estimators=100, random_state=0, n_jobs = -1),\n",
    "         k_features = (1, 9),\n",
    "          forward= True,\n",
    "          verbose= 2,\n",
    "          scoring= 'accuracy',\n",
    "          cv = 4,\n",
    "          n_jobs= -1\n",
    "         ).fit(X, y)"
   ]
  },
  {
   "cell_type": "code",
   "execution_count": 10,
   "metadata": {},
   "outputs": [
    {
     "data": {
      "text/plain": [
       "0.9644648829431439"
      ]
     },
     "execution_count": 10,
     "metadata": {},
     "output_type": "execute_result"
    }
   ],
   "source": [
    "sfs.k_score_"
   ]
  },
  {
   "cell_type": "code",
   "execution_count": 11,
   "metadata": {},
   "outputs": [
    {
     "data": {
      "text/plain": [
       "('4', '13', '14', '20', '27', '29', '32')"
      ]
     },
     "execution_count": 11,
     "metadata": {},
     "output_type": "execute_result"
    }
   ],
   "source": [
    "sfs.k_feature_names_"
   ]
  },
  {
   "cell_type": "code",
   "execution_count": 12,
   "metadata": {},
   "outputs": [],
   "source": [
    "###step Backward selection"
   ]
  },
  {
   "cell_type": "code",
   "execution_count": 13,
   "metadata": {
    "scrolled": false
   },
   "outputs": [
    {
     "name": "stderr",
     "output_type": "stream",
     "text": [
      "[Parallel(n_jobs=-1)]: Using backend LokyBackend with 4 concurrent workers.\n",
      "[Parallel(n_jobs=-1)]: Done  34 out of  34 | elapsed:   24.3s finished\n",
      "\n",
      "[2020-05-19 17:45:15] Features: 33/9 -- score: 0.9780817009077879[Parallel(n_jobs=-1)]: Using backend LokyBackend with 4 concurrent workers.\n",
      "[Parallel(n_jobs=-1)]: Done  33 out of  33 | elapsed:   22.8s finished\n",
      "\n",
      "[2020-05-19 17:45:38] Features: 32/9 -- score: 0.9780518394648829[Parallel(n_jobs=-1)]: Using backend LokyBackend with 4 concurrent workers.\n",
      "[Parallel(n_jobs=-1)]: Done  32 out of  32 | elapsed:   20.8s finished\n",
      "\n",
      "[2020-05-19 17:45:59] Features: 31/9 -- score: 0.9780817009077879[Parallel(n_jobs=-1)]: Using backend LokyBackend with 4 concurrent workers.\n",
      "[Parallel(n_jobs=-1)]: Done  31 out of  31 | elapsed:   21.3s finished\n",
      "\n",
      "[2020-05-19 17:46:21] Features: 30/9 -- score: 0.9808289536550406[Parallel(n_jobs=-1)]: Using backend LokyBackend with 4 concurrent workers.\n",
      "[Parallel(n_jobs=-1)]: Done  30 out of  30 | elapsed:   19.9s finished\n",
      "\n",
      "[2020-05-19 17:46:41] Features: 29/9 -- score: 0.9835762064022934[Parallel(n_jobs=-1)]: Using backend LokyBackend with 4 concurrent workers.\n",
      "[Parallel(n_jobs=-1)]: Done  29 out of  29 | elapsed:   20.0s finished\n",
      "\n",
      "[2020-05-19 17:47:01] Features: 28/9 -- score: 0.9835463449593884[Parallel(n_jobs=-1)]: Using backend LokyBackend with 4 concurrent workers.\n",
      "[Parallel(n_jobs=-1)]: Done  28 out of  28 | elapsed:   17.4s finished\n",
      "\n",
      "[2020-05-19 17:47:18] Features: 27/9 -- score: 0.9862935977066412[Parallel(n_jobs=-1)]: Using backend LokyBackend with 4 concurrent workers.\n",
      "[Parallel(n_jobs=-1)]: Done  27 out of  27 | elapsed:   17.2s finished\n",
      "\n",
      "[2020-05-19 17:47:36] Features: 26/9 -- score: 0.9862935977066412[Parallel(n_jobs=-1)]: Using backend LokyBackend with 4 concurrent workers.\n",
      "[Parallel(n_jobs=-1)]: Done  26 out of  26 | elapsed:   17.5s finished\n",
      "\n",
      "[2020-05-19 17:47:53] Features: 25/9 -- score: 0.9863234591495461[Parallel(n_jobs=-1)]: Using backend LokyBackend with 4 concurrent workers.\n",
      "[Parallel(n_jobs=-1)]: Done  25 out of  25 | elapsed:   17.7s finished\n",
      "\n",
      "[2020-05-19 17:48:11] Features: 24/9 -- score: 0.9862935977066412[Parallel(n_jobs=-1)]: Using backend LokyBackend with 4 concurrent workers.\n",
      "[Parallel(n_jobs=-1)]: Done  24 out of  24 | elapsed:   15.4s finished\n",
      "\n",
      "[2020-05-19 17:48:27] Features: 23/9 -- score: 0.989010989010989[Parallel(n_jobs=-1)]: Using backend LokyBackend with 4 concurrent workers.\n",
      "[Parallel(n_jobs=-1)]: Done  23 out of  23 | elapsed:   16.0s finished\n",
      "\n",
      "[2020-05-19 17:48:43] Features: 22/9 -- score: 0.9890408504538939[Parallel(n_jobs=-1)]: Using backend LokyBackend with 4 concurrent workers.\n",
      "[Parallel(n_jobs=-1)]: Done  22 out of  22 | elapsed:   16.3s finished\n",
      "\n",
      "[2020-05-19 17:48:59] Features: 21/9 -- score: 0.9835762064022934[Parallel(n_jobs=-1)]: Using backend LokyBackend with 4 concurrent workers.\n",
      "[Parallel(n_jobs=-1)]: Done  21 out of  21 | elapsed:   15.6s finished\n",
      "\n",
      "[2020-05-19 17:49:15] Features: 20/9 -- score: 0.9863234591495461[Parallel(n_jobs=-1)]: Using backend LokyBackend with 4 concurrent workers.\n",
      "[Parallel(n_jobs=-1)]: Done  20 out of  20 | elapsed:   14.3s finished\n",
      "\n",
      "[2020-05-19 17:49:29] Features: 19/9 -- score: 0.9890408504538939[Parallel(n_jobs=-1)]: Using backend LokyBackend with 4 concurrent workers.\n",
      "[Parallel(n_jobs=-1)]: Done  19 out of  19 | elapsed:   12.5s finished\n",
      "\n",
      "[2020-05-19 17:49:42] Features: 18/9 -- score: 0.9890408504538939[Parallel(n_jobs=-1)]: Using backend LokyBackend with 4 concurrent workers.\n",
      "[Parallel(n_jobs=-1)]: Done  18 out of  18 | elapsed:   12.4s finished\n",
      "\n",
      "[2020-05-19 17:49:54] Features: 17/9 -- score: 0.9863234591495461[Parallel(n_jobs=-1)]: Using backend LokyBackend with 4 concurrent workers.\n",
      "[Parallel(n_jobs=-1)]: Done  17 out of  17 | elapsed:   14.1s finished\n",
      "\n",
      "[2020-05-19 17:50:08] Features: 16/9 -- score: 0.9863234591495461[Parallel(n_jobs=-1)]: Using backend LokyBackend with 4 concurrent workers.\n",
      "[Parallel(n_jobs=-1)]: Done  16 out of  16 | elapsed:   10.3s finished\n",
      "\n",
      "[2020-05-19 17:50:19] Features: 15/9 -- score: 0.9835762064022934[Parallel(n_jobs=-1)]: Using backend LokyBackend with 4 concurrent workers.\n",
      "[Parallel(n_jobs=-1)]: Done  15 out of  15 | elapsed:   10.0s finished\n",
      "\n",
      "[2020-05-19 17:50:29] Features: 14/9 -- score: 0.9862935977066412[Parallel(n_jobs=-1)]: Using backend LokyBackend with 4 concurrent workers.\n",
      "[Parallel(n_jobs=-1)]: Done  14 out of  14 | elapsed:   10.1s finished\n",
      "\n",
      "[2020-05-19 17:50:39] Features: 13/9 -- score: 0.9863234591495461[Parallel(n_jobs=-1)]: Using backend LokyBackend with 4 concurrent workers.\n",
      "[Parallel(n_jobs=-1)]: Done  13 out of  13 | elapsed:   10.8s remaining:    0.0s\n",
      "[Parallel(n_jobs=-1)]: Done  13 out of  13 | elapsed:   10.8s finished\n",
      "\n",
      "[2020-05-19 17:50:50] Features: 12/9 -- score: 0.9836060678451983[Parallel(n_jobs=-1)]: Using backend LokyBackend with 4 concurrent workers.\n",
      "[Parallel(n_jobs=-1)]: Done  12 out of  12 | elapsed:    7.6s remaining:    0.0s\n",
      "[Parallel(n_jobs=-1)]: Done  12 out of  12 | elapsed:    7.6s finished\n",
      "\n",
      "[2020-05-19 17:50:58] Features: 11/9 -- score: 0.9781414237935977[Parallel(n_jobs=-1)]: Using backend LokyBackend with 4 concurrent workers.\n",
      "[Parallel(n_jobs=-1)]: Done  11 out of  11 | elapsed:    7.4s finished\n",
      "\n",
      "[2020-05-19 17:51:05] Features: 10/9 -- score: 0.9726767797419972[Parallel(n_jobs=-1)]: Using backend LokyBackend with 4 concurrent workers.\n",
      "[Parallel(n_jobs=-1)]: Done  10 out of  10 | elapsed:    7.5s finished\n",
      "\n",
      "[2020-05-19 17:51:13] Features: 9/9 -- score: 0.9617176301958911"
     ]
    }
   ],
   "source": [
    "sfs = SFS(RandomForestClassifier(n_estimators=100, random_state=0, n_jobs = -1),\n",
    "         k_features = 9,\n",
    "          forward= False,\n",
    "          verbose= 2,\n",
    "          scoring= 'accuracy',\n",
    "          cv = 4,\n",
    "          n_jobs= -1\n",
    "         ).fit(X, y)"
   ]
  },
  {
   "cell_type": "code",
   "execution_count": 14,
   "metadata": {},
   "outputs": [
    {
     "data": {
      "text/plain": [
       "0.9617176301958911"
      ]
     },
     "execution_count": 14,
     "metadata": {},
     "output_type": "execute_result"
    }
   ],
   "source": [
    "sbs = sfs\n",
    "\n",
    "sbs.k_score_"
   ]
  },
  {
   "cell_type": "code",
   "execution_count": 15,
   "metadata": {},
   "outputs": [
    {
     "data": {
      "text/plain": [
       "('0', '4', '11', '14', '15', '19', '21', '25', '29')"
      ]
     },
     "execution_count": 15,
     "metadata": {},
     "output_type": "execute_result"
    }
   ],
   "source": [
    "sbs.k_feature_names_\n"
   ]
  }
 ],
 "metadata": {
  "kernelspec": {
   "display_name": "Python 3",
   "language": "python",
   "name": "python3"
  },
  "language_info": {
   "codemirror_mode": {
    "name": "ipython",
    "version": 3
   },
   "file_extension": ".py",
   "mimetype": "text/x-python",
   "name": "python",
   "nbconvert_exporter": "python",
   "pygments_lexer": "ipython3",
   "version": "3.7.4"
  }
 },
 "nbformat": 4,
 "nbformat_minor": 2
}
