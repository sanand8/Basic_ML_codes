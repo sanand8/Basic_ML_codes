{
 "cells": [
  {
   "cell_type": "code",
   "execution_count": 1,
   "metadata": {},
   "outputs": [
    {
     "name": "stderr",
     "output_type": "stream",
     "text": [
      "Using TensorFlow backend.\n"
     ]
    }
   ],
   "source": [
    "import numpy as np\n",
    "import matplotlib.pyplot as plt\n",
    "import pandas as pd\n",
    "from sklearn.preprocessing import MinMaxScaler\n",
    "from keras.models import Sequential \n",
    "from keras.layers import Dense\n",
    "from keras.layers import LSTM\n",
    "from keras.layers import Dropout"
   ]
  },
  {
   "cell_type": "code",
   "execution_count": 2,
   "metadata": {},
   "outputs": [
    {
     "data": {
      "text/html": [
       "<div>\n",
       "<style scoped>\n",
       "    .dataframe tbody tr th:only-of-type {\n",
       "        vertical-align: middle;\n",
       "    }\n",
       "\n",
       "    .dataframe tbody tr th {\n",
       "        vertical-align: top;\n",
       "    }\n",
       "\n",
       "    .dataframe thead th {\n",
       "        text-align: right;\n",
       "    }\n",
       "</style>\n",
       "<table border=\"1\" class=\"dataframe\">\n",
       "  <thead>\n",
       "    <tr style=\"text-align: right;\">\n",
       "      <th></th>\n",
       "      <th>Date</th>\n",
       "      <th>Open</th>\n",
       "      <th>High</th>\n",
       "      <th>Low</th>\n",
       "      <th>Close</th>\n",
       "      <th>Adj Close</th>\n",
       "      <th>Volume</th>\n",
       "    </tr>\n",
       "  </thead>\n",
       "  <tbody>\n",
       "    <tr>\n",
       "      <th>3804</th>\n",
       "      <td>2019-09-30</td>\n",
       "      <td>1220.969971</td>\n",
       "      <td>1226.000000</td>\n",
       "      <td>1212.300049</td>\n",
       "      <td>1219.000000</td>\n",
       "      <td>1219.000000</td>\n",
       "      <td>1404100</td>\n",
       "    </tr>\n",
       "    <tr>\n",
       "      <th>3805</th>\n",
       "      <td>2019-10-01</td>\n",
       "      <td>1219.000000</td>\n",
       "      <td>1231.229980</td>\n",
       "      <td>1203.579956</td>\n",
       "      <td>1205.099976</td>\n",
       "      <td>1205.099976</td>\n",
       "      <td>1273500</td>\n",
       "    </tr>\n",
       "    <tr>\n",
       "      <th>3806</th>\n",
       "      <td>2019-10-02</td>\n",
       "      <td>1196.979980</td>\n",
       "      <td>1196.979980</td>\n",
       "      <td>1171.290039</td>\n",
       "      <td>1176.630005</td>\n",
       "      <td>1176.630005</td>\n",
       "      <td>1615100</td>\n",
       "    </tr>\n",
       "    <tr>\n",
       "      <th>3807</th>\n",
       "      <td>2019-10-03</td>\n",
       "      <td>1180.000000</td>\n",
       "      <td>1189.060059</td>\n",
       "      <td>1162.430054</td>\n",
       "      <td>1187.829956</td>\n",
       "      <td>1187.829956</td>\n",
       "      <td>1621200</td>\n",
       "    </tr>\n",
       "    <tr>\n",
       "      <th>3808</th>\n",
       "      <td>2019-10-04</td>\n",
       "      <td>1191.890015</td>\n",
       "      <td>1211.439941</td>\n",
       "      <td>1189.170044</td>\n",
       "      <td>1209.000000</td>\n",
       "      <td>1209.000000</td>\n",
       "      <td>1021092</td>\n",
       "    </tr>\n",
       "  </tbody>\n",
       "</table>\n",
       "</div>"
      ],
      "text/plain": [
       "            Date         Open         High          Low        Close  \\\n",
       "3804  2019-09-30  1220.969971  1226.000000  1212.300049  1219.000000   \n",
       "3805  2019-10-01  1219.000000  1231.229980  1203.579956  1205.099976   \n",
       "3806  2019-10-02  1196.979980  1196.979980  1171.290039  1176.630005   \n",
       "3807  2019-10-03  1180.000000  1189.060059  1162.430054  1187.829956   \n",
       "3808  2019-10-04  1191.890015  1211.439941  1189.170044  1209.000000   \n",
       "\n",
       "        Adj Close   Volume  \n",
       "3804  1219.000000  1404100  \n",
       "3805  1205.099976  1273500  \n",
       "3806  1176.630005  1615100  \n",
       "3807  1187.829956  1621200  \n",
       "3808  1209.000000  1021092  "
      ]
     },
     "execution_count": 2,
     "metadata": {},
     "output_type": "execute_result"
    }
   ],
   "source": [
    "data = pd.read_csv('GOOG.csv', date_parser = True)\n",
    "data.tail()"
   ]
  },
  {
   "cell_type": "code",
   "execution_count": 3,
   "metadata": {},
   "outputs": [],
   "source": [
    "data_training = data[data['Date']<'2019-01-01'].copy()\n",
    "data_test = data[data['Date']>='2019-01-01'].copy()\n",
    "\n",
    "data_training = data_training.drop(['Date', 'Adj Close'], axis = 1)\n"
   ]
  },
  {
   "cell_type": "code",
   "execution_count": 4,
   "metadata": {},
   "outputs": [
    {
     "data": {
      "text/plain": [
       "array([[3.30294890e-04, 9.44785459e-04, 0.00000000e+00, 1.34908021e-04,\n",
       "        5.43577404e-01],\n",
       "       [7.42148227e-04, 2.98909923e-03, 1.88269054e-03, 3.39307537e-03,\n",
       "        2.77885613e-01],\n",
       "       [4.71386886e-03, 4.78092896e-03, 5.42828241e-03, 3.83867225e-03,\n",
       "        2.22150736e-01],\n",
       "       ...,\n",
       "       [7.92197108e-01, 8.11970141e-01, 7.90196475e-01, 8.15799920e-01,\n",
       "        2.54672037e-02],\n",
       "       [8.18777193e-01, 8.21510648e-01, 8.20249255e-01, 8.10219301e-01,\n",
       "        1.70463908e-02],\n",
       "       [8.19874096e-01, 8.19172449e-01, 8.12332341e-01, 8.09012935e-01,\n",
       "        1.79975186e-02]])"
      ]
     },
     "execution_count": 4,
     "metadata": {},
     "output_type": "execute_result"
    }
   ],
   "source": [
    "#minmaxscaler makes the data values in the range of [0-1]\n",
    "scaler = MinMaxScaler()\n",
    "training_data = scaler.fit_transform(data_training)\n",
    "training_data "
   ]
  },
  {
   "cell_type": "code",
   "execution_count": 5,
   "metadata": {},
   "outputs": [
    {
     "data": {
      "text/plain": [
       "array([[[3.30294890e-04, 9.44785459e-04, 0.00000000e+00, 1.34908021e-04,\n",
       "         5.43577404e-01],\n",
       "        [7.42148227e-04, 2.98909923e-03, 1.88269054e-03, 3.39307537e-03,\n",
       "         2.77885613e-01],\n",
       "        [4.71386886e-03, 4.78092896e-03, 5.42828241e-03, 3.83867225e-03,\n",
       "         2.22150736e-01],\n",
       "        ...,\n",
       "        [3.05463616e-02, 2.99154223e-02, 2.87421258e-02, 2.80807737e-02,\n",
       "         2.69022556e-01],\n",
       "        [2.91476913e-02, 2.88240316e-02, 2.91816917e-02, 2.77373761e-02,\n",
       "         2.58801264e-01],\n",
       "        [2.85197221e-02, 3.33972717e-02, 2.96959051e-02, 3.39348522e-02,\n",
       "         3.64400680e-01]],\n",
       "\n",
       "       [[7.42148227e-04, 2.98909923e-03, 1.88269054e-03, 3.39307537e-03,\n",
       "         2.77885613e-01],\n",
       "        [4.71386886e-03, 4.78092896e-03, 5.42828241e-03, 3.83867225e-03,\n",
       "         2.22150736e-01],\n",
       "        [4.91367646e-03, 4.01532941e-03, 3.15578542e-03, 1.98678849e-03,\n",
       "         1.85522018e-01],\n",
       "        ...,\n",
       "        [2.91476913e-02, 2.88240316e-02, 2.91816917e-02, 2.77373761e-02,\n",
       "         2.58801264e-01],\n",
       "        [2.85197221e-02, 3.33972717e-02, 2.96959051e-02, 3.39348522e-02,\n",
       "         3.64400680e-01],\n",
       "        [3.50848828e-02, 3.58610368e-02, 3.37723068e-02, 3.35178722e-02,\n",
       "         4.07224452e-01]],\n",
       "\n",
       "       [[4.71386886e-03, 4.78092896e-03, 5.42828241e-03, 3.83867225e-03,\n",
       "         2.22150736e-01],\n",
       "        [4.91367646e-03, 4.01532941e-03, 3.15578542e-03, 1.98678849e-03,\n",
       "         1.85522018e-01],\n",
       "        [2.35285614e-03, 2.54928676e-03, 3.28434064e-03, 2.44873974e-03,\n",
       "         1.11762967e-01],\n",
       "        ...,\n",
       "        [2.85197221e-02, 3.33972717e-02, 2.96959051e-02, 3.39348522e-02,\n",
       "         3.64400680e-01],\n",
       "        [3.50848828e-02, 3.58610368e-02, 3.37723068e-02, 3.35178722e-02,\n",
       "         4.07224452e-01],\n",
       "        [3.31357243e-02, 3.52583308e-02, 3.43321364e-02, 3.46911404e-02,\n",
       "         2.89388806e-01]],\n",
       "\n",
       "       ...,\n",
       "\n",
       "       [[9.41789002e-01, 9.47686830e-01, 9.51116356e-01, 9.40074521e-01,\n",
       "         1.63533397e-02],\n",
       "        [9.34478814e-01, 9.47735830e-01, 9.48061090e-01, 9.44013692e-01,\n",
       "         2.03553462e-02],\n",
       "        [9.45972062e-01, 9.44833690e-01, 9.54054960e-01, 9.46344376e-01,\n",
       "         1.51247492e-02],\n",
       "        ...,\n",
       "        [7.90682659e-01, 7.95726000e-01, 7.70791192e-01, 7.62997778e-01,\n",
       "         5.55906928e-02],\n",
       "        [7.56792436e-01, 7.78983133e-01, 7.67810873e-01, 7.60273137e-01,\n",
       "         1.91727975e-02],\n",
       "        [7.69161548e-01, 8.08789971e-01, 7.78541650e-01, 8.12172507e-01,\n",
       "         2.86598428e-02]],\n",
       "\n",
       "       [[9.34478814e-01, 9.47735830e-01, 9.48061090e-01, 9.44013692e-01,\n",
       "         2.03553462e-02],\n",
       "        [9.45972062e-01, 9.44833690e-01, 9.54054960e-01, 9.46344376e-01,\n",
       "         1.51247492e-02],\n",
       "        [9.38056114e-01, 9.37557732e-01, 9.22209060e-01, 9.17817764e-01,\n",
       "         2.66751965e-02],\n",
       "        ...,\n",
       "        [7.56792436e-01, 7.78983133e-01, 7.67810873e-01, 7.60273137e-01,\n",
       "         1.91727975e-02],\n",
       "        [7.69161548e-01, 8.08789971e-01, 7.78541650e-01, 8.12172507e-01,\n",
       "         2.86598428e-02],\n",
       "        [7.92197108e-01, 8.11970141e-01, 7.90196475e-01, 8.15799920e-01,\n",
       "         2.54672037e-02]],\n",
       "\n",
       "       [[9.45972062e-01, 9.44833690e-01, 9.54054960e-01, 9.46344376e-01,\n",
       "         1.51247492e-02],\n",
       "        [9.38056114e-01, 9.37557732e-01, 9.22209060e-01, 9.17817764e-01,\n",
       "         2.66751965e-02],\n",
       "        [9.15274369e-01, 9.17929042e-01, 9.13504524e-01, 9.08921694e-01,\n",
       "         1.42535888e-02],\n",
       "        ...,\n",
       "        [7.69161548e-01, 8.08789971e-01, 7.78541650e-01, 8.12172507e-01,\n",
       "         2.86598428e-02],\n",
       "        [7.92197108e-01, 8.11970141e-01, 7.90196475e-01, 8.15799920e-01,\n",
       "         2.54672037e-02],\n",
       "        [8.18777193e-01, 8.21510648e-01, 8.20249255e-01, 8.10219301e-01,\n",
       "         1.70463908e-02]]])"
      ]
     },
     "execution_count": 5,
     "metadata": {},
     "output_type": "execute_result"
    }
   ],
   "source": [
    "X_train = []\n",
    "y_train = []\n",
    "for i in range(60, training_data.shape[0]):\n",
    "    X_train.append(training_data[i-60:i])\n",
    "    y_train.append(training_data[i, 0])\n",
    "\n",
    "X_train, y_train = np.array(X_train), np.array(y_train)\n",
    "\n",
    "X_train"
   ]
  },
  {
   "cell_type": "code",
   "execution_count": 6,
   "metadata": {},
   "outputs": [
    {
     "data": {
      "text/plain": [
       "5"
      ]
     },
     "execution_count": 6,
     "metadata": {},
     "output_type": "execute_result"
    }
   ],
   "source": [
    "#sequential is used because we have one input and output tensor\n",
    "from tensorflow.keras import Sequential\n",
    "from tensorflow.keras.layers import Dense, LSTM, Dropout\n",
    "X_train.shape[2]"
   ]
  },
  {
   "cell_type": "code",
   "execution_count": 7,
   "metadata": {},
   "outputs": [],
   "source": [
    "\n",
    "model = Sequential()\n",
    "\n",
    "#units represent the no of cells in out lstm \n",
    "#lstm is long short term memory it has four neurons\n",
    "#activation function ensures tht the non linear realtion ship holds\n",
    "#relu is better than other activation function\n",
    "# That return sequences return the hidden state output for each input time step.\n",
    "model.add(LSTM(units = 60, activation = 'relu', return_sequences = True, input_shape = (X_train.shape[1], 5)))\n",
    "#Dropout is a technique where randomly selected neurons are ignored during training it used to prevent overfitting\n",
    "model.add(Dropout(0.2))\n",
    "\n",
    "model.add(LSTM(units = 60, activation = 'relu', return_sequences = True))\n",
    "model.add(Dropout(0.2))\n",
    "\n",
    "model.add(LSTM(units = 80, activation = 'relu', return_sequences = True))\n",
    "model.add(Dropout(0.2))\n",
    "\n",
    "model.add(LSTM(units = 120, activation = 'relu'))\n",
    "model.add(Dropout(0.2))\n",
    "\n",
    "#it is connecting current layer to the previous layer\n",
    "model.add(Dense(units = 1))\n",
    "\n"
   ]
  },
  {
   "cell_type": "code",
   "execution_count": 8,
   "metadata": {},
   "outputs": [
    {
     "name": "stdout",
     "output_type": "stream",
     "text": [
      "Train on 3557 samples\n",
      "Epoch 1/50\n",
      "3557/3557 [==============================] - 21s 6ms/sample - loss: 0.0145\n",
      "Epoch 2/50\n",
      "3557/3557 [==============================] - 16s 4ms/sample - loss: 0.0022\n",
      "Epoch 3/50\n",
      "3557/3557 [==============================] - 16s 5ms/sample - loss: 0.0021\n",
      "Epoch 4/50\n",
      "3557/3557 [==============================] - 17s 5ms/sample - loss: 0.0018\n",
      "Epoch 5/50\n",
      "3557/3557 [==============================] - 17s 5ms/sample - loss: 0.0017\n",
      "Epoch 6/50\n",
      "3557/3557 [==============================] - 16s 5ms/sample - loss: 0.0017\n",
      "Epoch 7/50\n",
      "3557/3557 [==============================] - 15s 4ms/sample - loss: 0.0014\n",
      "Epoch 8/50\n",
      "3557/3557 [==============================] - 15s 4ms/sample - loss: 0.0014\n",
      "Epoch 9/50\n",
      "3557/3557 [==============================] - 16s 4ms/sample - loss: 0.0014\n",
      "Epoch 10/50\n",
      "3557/3557 [==============================] - 15s 4ms/sample - loss: 0.0012\n",
      "Epoch 11/50\n",
      "3557/3557 [==============================] - 16s 4ms/sample - loss: 0.0014\n",
      "Epoch 12/50\n",
      "3557/3557 [==============================] - 15s 4ms/sample - loss: 0.0015\n",
      "Epoch 13/50\n",
      "3557/3557 [==============================] - 16s 4ms/sample - loss: 0.0013\n",
      "Epoch 14/50\n",
      "3557/3557 [==============================] - 16s 4ms/sample - loss: 0.0012\n",
      "Epoch 15/50\n",
      "3557/3557 [==============================] - 16s 5ms/sample - loss: 0.0013\n",
      "Epoch 16/50\n",
      "3557/3557 [==============================] - 16s 4ms/sample - loss: 0.0013\n",
      "Epoch 17/50\n",
      "3557/3557 [==============================] - 15s 4ms/sample - loss: 9.8075e-04\n",
      "Epoch 18/50\n",
      "3557/3557 [==============================] - 15s 4ms/sample - loss: 0.0011\n",
      "Epoch 19/50\n",
      "3557/3557 [==============================] - 15s 4ms/sample - loss: 0.0011\n",
      "Epoch 20/50\n",
      "3557/3557 [==============================] - 15s 4ms/sample - loss: 9.5712e-04\n",
      "Epoch 21/50\n",
      "3557/3557 [==============================] - 15s 4ms/sample - loss: 9.0442e-04\n",
      "Epoch 22/50\n",
      "3557/3557 [==============================] - 15s 4ms/sample - loss: 9.0234e-04\n",
      "Epoch 23/50\n",
      "3557/3557 [==============================] - 15s 4ms/sample - loss: 8.4124e-04\n",
      "Epoch 24/50\n",
      "3557/3557 [==============================] - 15s 4ms/sample - loss: 8.5158e-04\n",
      "Epoch 25/50\n",
      "3557/3557 [==============================] - 15s 4ms/sample - loss: 8.9597e-04\n",
      "Epoch 26/50\n",
      "3557/3557 [==============================] - 15s 4ms/sample - loss: 9.0428e-04\n",
      "Epoch 27/50\n",
      "3557/3557 [==============================] - 16s 4ms/sample - loss: 8.2890e-04\n",
      "Epoch 28/50\n",
      "3557/3557 [==============================] - 16s 4ms/sample - loss: 7.8056e-04\n",
      "Epoch 29/50\n",
      "3557/3557 [==============================] - 16s 4ms/sample - loss: 7.7538e-04\n",
      "Epoch 30/50\n",
      "3557/3557 [==============================] - 16s 4ms/sample - loss: 7.4752e-04\n",
      "Epoch 31/50\n",
      "3557/3557 [==============================] - 16s 4ms/sample - loss: 8.0341e-04\n",
      "Epoch 32/50\n",
      "3557/3557 [==============================] - 16s 4ms/sample - loss: 7.6835e-04\n",
      "Epoch 33/50\n",
      "3557/3557 [==============================] - 16s 4ms/sample - loss: 7.1641e-04\n",
      "Epoch 34/50\n",
      "3557/3557 [==============================] - 16s 4ms/sample - loss: 6.9419e-04\n",
      "Epoch 35/50\n",
      "3557/3557 [==============================] - 16s 4ms/sample - loss: 7.7502e-04\n",
      "Epoch 36/50\n",
      "3557/3557 [==============================] - 16s 4ms/sample - loss: 6.7436e-04\n",
      "Epoch 37/50\n",
      "3557/3557 [==============================] - 16s 4ms/sample - loss: 7.1046e-04\n",
      "Epoch 38/50\n",
      "3557/3557 [==============================] - 16s 4ms/sample - loss: 6.4997e-04\n",
      "Epoch 39/50\n",
      "3557/3557 [==============================] - 16s 4ms/sample - loss: 7.0125e-04\n",
      "Epoch 40/50\n",
      "3557/3557 [==============================] - 16s 4ms/sample - loss: 7.7575e-04\n",
      "Epoch 41/50\n",
      "3557/3557 [==============================] - 16s 4ms/sample - loss: 7.6537e-04\n",
      "Epoch 42/50\n",
      "3557/3557 [==============================] - 16s 4ms/sample - loss: 6.8026e-04\n",
      "Epoch 43/50\n",
      "3557/3557 [==============================] - 16s 4ms/sample - loss: 6.9661e-04\n",
      "Epoch 44/50\n",
      "3557/3557 [==============================] - 16s 4ms/sample - loss: 6.2266e-04\n",
      "Epoch 45/50\n",
      "3557/3557 [==============================] - 16s 4ms/sample - loss: 6.8747e-04\n",
      "Epoch 46/50\n",
      "3557/3557 [==============================] - 16s 4ms/sample - loss: 6.7386e-04\n",
      "Epoch 47/50\n",
      "3557/3557 [==============================] - 16s 4ms/sample - loss: 6.1453e-04\n",
      "Epoch 48/50\n",
      "3557/3557 [==============================] - 16s 4ms/sample - loss: 6.7432e-04\n",
      "Epoch 49/50\n",
      "3557/3557 [==============================] - 16s 4ms/sample - loss: 6.9331e-04\n",
      "Epoch 50/50\n",
      "3557/3557 [==============================] - 16s 4ms/sample - loss: 6.0925e-04\n"
     ]
    },
    {
     "data": {
      "text/html": [
       "<div>\n",
       "<style scoped>\n",
       "    .dataframe tbody tr th:only-of-type {\n",
       "        vertical-align: middle;\n",
       "    }\n",
       "\n",
       "    .dataframe tbody tr th {\n",
       "        vertical-align: top;\n",
       "    }\n",
       "\n",
       "    .dataframe thead th {\n",
       "        text-align: right;\n",
       "    }\n",
       "</style>\n",
       "<table border=\"1\" class=\"dataframe\">\n",
       "  <thead>\n",
       "    <tr style=\"text-align: right;\">\n",
       "      <th></th>\n",
       "      <th>Date</th>\n",
       "      <th>Open</th>\n",
       "      <th>High</th>\n",
       "      <th>Low</th>\n",
       "      <th>Close</th>\n",
       "      <th>Adj Close</th>\n",
       "      <th>Volume</th>\n",
       "    </tr>\n",
       "  </thead>\n",
       "  <tbody>\n",
       "    <tr>\n",
       "      <th>3617</th>\n",
       "      <td>2019-01-02</td>\n",
       "      <td>1016.570007</td>\n",
       "      <td>1052.319946</td>\n",
       "      <td>1015.710022</td>\n",
       "      <td>1045.849976</td>\n",
       "      <td>1045.849976</td>\n",
       "      <td>1532600</td>\n",
       "    </tr>\n",
       "    <tr>\n",
       "      <th>3618</th>\n",
       "      <td>2019-01-03</td>\n",
       "      <td>1041.000000</td>\n",
       "      <td>1056.979980</td>\n",
       "      <td>1014.070007</td>\n",
       "      <td>1016.059998</td>\n",
       "      <td>1016.059998</td>\n",
       "      <td>1841100</td>\n",
       "    </tr>\n",
       "    <tr>\n",
       "      <th>3619</th>\n",
       "      <td>2019-01-04</td>\n",
       "      <td>1032.589966</td>\n",
       "      <td>1070.839966</td>\n",
       "      <td>1027.417969</td>\n",
       "      <td>1070.709961</td>\n",
       "      <td>1070.709961</td>\n",
       "      <td>2093900</td>\n",
       "    </tr>\n",
       "    <tr>\n",
       "      <th>3620</th>\n",
       "      <td>2019-01-07</td>\n",
       "      <td>1071.500000</td>\n",
       "      <td>1074.000000</td>\n",
       "      <td>1054.760010</td>\n",
       "      <td>1068.390015</td>\n",
       "      <td>1068.390015</td>\n",
       "      <td>1981900</td>\n",
       "    </tr>\n",
       "    <tr>\n",
       "      <th>3621</th>\n",
       "      <td>2019-01-08</td>\n",
       "      <td>1076.109985</td>\n",
       "      <td>1084.560059</td>\n",
       "      <td>1060.530029</td>\n",
       "      <td>1076.280029</td>\n",
       "      <td>1076.280029</td>\n",
       "      <td>1764900</td>\n",
       "    </tr>\n",
       "  </tbody>\n",
       "</table>\n",
       "</div>"
      ],
      "text/plain": [
       "            Date         Open         High          Low        Close  \\\n",
       "3617  2019-01-02  1016.570007  1052.319946  1015.710022  1045.849976   \n",
       "3618  2019-01-03  1041.000000  1056.979980  1014.070007  1016.059998   \n",
       "3619  2019-01-04  1032.589966  1070.839966  1027.417969  1070.709961   \n",
       "3620  2019-01-07  1071.500000  1074.000000  1054.760010  1068.390015   \n",
       "3621  2019-01-08  1076.109985  1084.560059  1060.530029  1076.280029   \n",
       "\n",
       "        Adj Close   Volume  \n",
       "3617  1045.849976  1532600  \n",
       "3618  1016.059998  1841100  \n",
       "3619  1070.709961  2093900  \n",
       "3620  1068.390015  1981900  \n",
       "3621  1076.280029  1764900  "
      ]
     },
     "execution_count": 8,
     "metadata": {},
     "output_type": "execute_result"
    }
   ],
   "source": [
    "#optimizer increases the accuracy\n",
    "#adam is efficient and requires less memory \n",
    "model.compile(optimizer='adam', loss = 'mean_squared_error')\n",
    "#epochs how many times we are feeding our training data to the model we can't feed the whole data in one time stamp so we are feeding \n",
    "#it in batches means 60 * 32 * 5\n",
    "#batch is used to take 32 rows and update it\n",
    "model.fit(X_train, y_train, epochs=50, batch_size=32)\n",
    "\n",
    "data_test.head()\n"
   ]
  },
  {
   "cell_type": "code",
   "execution_count": 9,
   "metadata": {},
   "outputs": [
    {
     "data": {
      "text/html": [
       "<div>\n",
       "<style scoped>\n",
       "    .dataframe tbody tr th:only-of-type {\n",
       "        vertical-align: middle;\n",
       "    }\n",
       "\n",
       "    .dataframe tbody tr th {\n",
       "        vertical-align: top;\n",
       "    }\n",
       "\n",
       "    .dataframe thead th {\n",
       "        text-align: right;\n",
       "    }\n",
       "</style>\n",
       "<table border=\"1\" class=\"dataframe\">\n",
       "  <thead>\n",
       "    <tr style=\"text-align: right;\">\n",
       "      <th></th>\n",
       "      <th>Close</th>\n",
       "      <th>High</th>\n",
       "      <th>Low</th>\n",
       "      <th>Open</th>\n",
       "      <th>Volume</th>\n",
       "    </tr>\n",
       "  </thead>\n",
       "  <tbody>\n",
       "    <tr>\n",
       "      <th>0</th>\n",
       "      <td>1168.189941</td>\n",
       "      <td>1197.510010</td>\n",
       "      <td>1155.576050</td>\n",
       "      <td>1195.329956</td>\n",
       "      <td>2209500</td>\n",
       "    </tr>\n",
       "    <tr>\n",
       "      <th>1</th>\n",
       "      <td>1157.349976</td>\n",
       "      <td>1173.500000</td>\n",
       "      <td>1145.119995</td>\n",
       "      <td>1167.500000</td>\n",
       "      <td>1184300</td>\n",
       "    </tr>\n",
       "    <tr>\n",
       "      <th>2</th>\n",
       "      <td>1148.969971</td>\n",
       "      <td>1168.000000</td>\n",
       "      <td>1127.364014</td>\n",
       "      <td>1150.109985</td>\n",
       "      <td>1932400</td>\n",
       "    </tr>\n",
       "    <tr>\n",
       "      <th>3</th>\n",
       "      <td>1138.819946</td>\n",
       "      <td>1154.349976</td>\n",
       "      <td>1137.572021</td>\n",
       "      <td>1146.150024</td>\n",
       "      <td>1308700</td>\n",
       "    </tr>\n",
       "    <tr>\n",
       "      <th>4</th>\n",
       "      <td>1081.219971</td>\n",
       "      <td>1132.170044</td>\n",
       "      <td>1081.130005</td>\n",
       "      <td>1131.079956</td>\n",
       "      <td>2675700</td>\n",
       "    </tr>\n",
       "  </tbody>\n",
       "</table>\n",
       "</div>"
      ],
      "text/plain": [
       "         Close         High          Low         Open   Volume\n",
       "0  1168.189941  1197.510010  1155.576050  1195.329956  2209500\n",
       "1  1157.349976  1173.500000  1145.119995  1167.500000  1184300\n",
       "2  1148.969971  1168.000000  1127.364014  1150.109985  1932400\n",
       "3  1138.819946  1154.349976  1137.572021  1146.150024  1308700\n",
       "4  1081.219971  1132.170044  1081.130005  1131.079956  2675700"
      ]
     },
     "execution_count": 9,
     "metadata": {},
     "output_type": "execute_result"
    }
   ],
   "source": [
    "data_training.tail(60)\n",
    "\n",
    "past_60_days = data_training.tail(60)\n",
    "\n",
    "df = past_60_days.append(data_test, ignore_index = True,sort=True)\n",
    "df = df.drop(['Date', 'Adj Close'], axis = 1)\n",
    "df.head()\n"
   ]
  },
  {
   "cell_type": "code",
   "execution_count": 10,
   "metadata": {},
   "outputs": [
    {
     "data": {
      "text/plain": [
       "array([[0.91583916, 0.93755773, 0.92220906, 0.94009085, 0.0266752 ],\n",
       "       [0.90696551, 0.91792904, 0.91350452, 0.91725155, 0.01425359],\n",
       "       [0.90010559, 0.91343268, 0.89872289, 0.90298003, 0.02331778],\n",
       "       ...,\n",
       "       [0.92274824, 0.93712442, 0.93529076, 0.94144498, 0.01947328],\n",
       "       [0.93191658, 0.93064972, 0.92791493, 0.92750996, 0.01954719],\n",
       "       [0.94924648, 0.94894575, 0.95017564, 0.93726778, 0.01227612]])"
      ]
     },
     "execution_count": 10,
     "metadata": {},
     "output_type": "execute_result"
    }
   ],
   "source": [
    "inputs = scaler.transform(df)\n",
    "inputs"
   ]
  },
  {
   "cell_type": "code",
   "execution_count": 11,
   "metadata": {},
   "outputs": [],
   "source": [
    "X_test = []\n",
    "y_test = []\n",
    "for i in range(60, inputs.shape[0]):\n",
    "    X_test.append(inputs[i-60:i])\n",
    "    y_test.append(inputs[i, 0])\n"
   ]
  },
  {
   "cell_type": "code",
   "execution_count": 12,
   "metadata": {},
   "outputs": [
    {
     "data": {
      "text/plain": [
       "((192, 60, 5), (192,))"
      ]
     },
     "execution_count": 12,
     "metadata": {},
     "output_type": "execute_result"
    }
   ],
   "source": [
    "X_test, y_test = np.array(X_test), np.array(y_test)\n",
    "X_test.shape, y_test.shape\n"
   ]
  },
  {
   "cell_type": "code",
   "execution_count": 13,
   "metadata": {},
   "outputs": [
    {
     "data": {
      "text/plain": [
       "1221.5901990069017"
      ]
     },
     "execution_count": 13,
     "metadata": {},
     "output_type": "execute_result"
    }
   ],
   "source": [
    "y_pred = model.predict(X_test)\n",
    "scaler.scale_\n",
    "#it is making the ypred and ytest in the same scale\n",
    "scale = 1/8.18605127e-04\n",
    "scale\n"
   ]
  },
  {
   "cell_type": "code",
   "execution_count": 14,
   "metadata": {},
   "outputs": [],
   "source": [
    "y_pred = y_pred*scale\n",
    "y_test = y_test*scale"
   ]
  },
  {
   "cell_type": "code",
   "execution_count": 15,
   "metadata": {},
   "outputs": [
    {
     "data": {
      "image/png": "[encoded data removed]",
      "text/plain": [
       "<Figure size 1008x360 with 1 Axes>"
      ]
     },
     "metadata": {
      "needs_background": "light"
     },
     "output_type": "display_data"
    }
   ],
   "source": [
    "plt.figure(figsize=(14,5))\n",
    "plt.plot(y_test, color = 'red', label = 'Real Google Stock Price')\n",
    "plt.plot(y_pred, color = 'blue', label = 'Predicted Google Stock Price')\n",
    "plt.title('Google Stock Price Prediction')\n",
    "plt.xlabel('Time')\n",
    "plt.ylabel('Google Stock Price')\n",
    "plt.legend()\n",
    "plt.show()"
   ]
  }
 ],
 "metadata": {
  "kernelspec": {
   "display_name": "Python 3",
   "language": "python",
   "name": "python3"
  },
  "language_info": {
   "codemirror_mode": {
    "name": "ipython",
    "version": 3
   },
   "file_extension": ".py",
   "mimetype": "text/x-python",
   "name": "python",
   "nbconvert_exporter": "python",
   "pygments_lexer": "ipython3",
   "version": "3.7.4"
  }
 },
 "nbformat": 4,
 "nbformat_minor": 4
}
