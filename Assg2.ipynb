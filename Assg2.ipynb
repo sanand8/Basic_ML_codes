{
 "cells": [
  {
   "cell_type": "code",
   "execution_count": 16,
   "metadata": {},
   "outputs": [
    {
     "data": {
      "text/plain": [
       "(150, 4)"
      ]
     },
     "execution_count": 16,
     "metadata": {},
     "output_type": "execute_result"
    }
   ],
   "source": [
    "import pandas as pd\n",
    "import numpy as np\n",
    "import matplotlib.pyplot as plt\n",
    "data=pd.read_csv('irisn.csv',delimiter=',')\n",
    "data_x=data.iloc[:,:-1].values\n",
    "data_x.shape"
   ]
  },
  {
   "cell_type": "code",
   "execution_count": 13,
   "metadata": {},
   "outputs": [],
   "source": [
    "def cluster_mean(max_iters,data_x,K,data):\n",
    "    centroids = data_x[np.random.choice(data_x.shape[0], size=K, replace=False), :]\n",
    "    #centroids=data.iloc[0:K,:-1].values\n",
    "    max_iters=300;\n",
    "    centroids_the_same=False\n",
    "    iters=0\n",
    "    cluster_assignments=np.zeros(data_x.shape[0])\n",
    "    while iters<max_iters and not(centroids_the_same):\n",
    "        output=0.0\n",
    "    # Go through each data point and assign it to the nearest centroid\n",
    "        for i in range(0, data_x.shape[0]):\n",
    "            min_distance = float(\"inf\")\n",
    " \n",
    "            for j in range(0, K):\n",
    "         \n",
    "            # Calculate the Euclidean distance from this instance to the\n",
    "            # centroid\n",
    "                distance = np.linalg.norm(data_x[i] - centroids[j])\n",
    "        #print(distance,\" \", min_distance)\n",
    "            # If we have a centroid that is closer to this instance,\n",
    "            # update the cluster assignment for this instance.\n",
    "                if distance < min_distance:\n",
    "                    cluster_assignments[i] =j\n",
    "                    min_distance = distance # Update the minimum distance\n",
    "            output=output+min_distance**2\n",
    "        old_centroids=centroids.copy() \n",
    "        for row_c in range(0,K):\n",
    "            for col in range(0,data_x.shape[1]):\n",
    "                sum1=0\n",
    "                count=0\n",
    "                for row in range(0,data_x.shape[0]):\n",
    "                #print(cluster_assignments[row],\" \",row_c)\n",
    "                    if (cluster_assignments[row]==row_c):\n",
    "                        sum1=sum1+data_x[row][col]\n",
    "                        count=count+1\n",
    "                if count>0:        \n",
    "                    centroids[row_c][col]=(sum1/count)        \n",
    "        count1=0\n",
    "        for i in range(0,K):\n",
    "            for j in range(0,data_x.shape[1]):\n",
    "                #print(old_centroids[i][j],\"  \",centroids[i][j])\n",
    "                if old_centroids[i][j]==centroids[i][j]:\n",
    "                    count1=count1+1            \n",
    "        if count1==K*data_x.shape[1]:\n",
    "            centroids_the_same=True\n",
    "        iters=iters+1\n",
    "        \n",
    "    return output  "
   ]
  },
  {
   "cell_type": "code",
   "execution_count": 15,
   "metadata": {},
   "outputs": [
    {
     "name": "stdout",
     "output_type": "stream",
     "text": [
      "[680.8244     152.36870648  78.94506583  71.34399912  50.06165816\n",
      "  45.47813517  38.5386946   41.67766275  28.78692294  33.28976432]\n"
     ]
    },
    {
     "data": {
      "text/plain": [
       "Text(0, 0.5, 'ouput')"
      ]
     },
     "execution_count": 15,
     "metadata": {},
     "output_type": "execute_result"
    },
    {
     "data": {
      "image/png": "[encoded data removed]",
      "text/plain": [
       "<Figure size 432x288 with 1 Axes>"
      ]
     },
     "metadata": {
      "needs_background": "light"
     },
     "output_type": "display_data"
    }
   ],
   "source": [
    "output=np.ones(10)\n",
    "for i in range(1,11):\n",
    "    output[i-1]=cluster_mean(300,data_x,i,data)\n",
    "print(output)\n",
    "import matplotlib.pyplot as plt\n",
    "ouput=list(output)\n",
    "n_itr=[x for x in range(1,11)]\n",
    "plt.plot(n_itr,output)\n",
    "plt.xlabel('Value of K')\n",
    "plt.ylabel('ouput')"
   ]
  }
 ],
 "metadata": {
  "kernelspec": {
   "display_name": "Python 3",
   "language": "python",
   "name": "python3"
  },
  "language_info": {
   "codemirror_mode": {
    "name": "ipython",
    "version": 3
   },
   "file_extension": ".py",
   "mimetype": "text/x-python",
   "name": "python",
   "nbconvert_exporter": "python",
   "pygments_lexer": "ipython3",
   "version": "3.7.4"
  }
 },
 "nbformat": 4,
 "nbformat_minor": 4
}
