{
 "cells": [
  {
   "cell_type": "code",
   "execution_count": 1,
   "metadata": {},
   "outputs": [],
   "source": [
    "import numpy as np\n",
    "import pandas as pd\n",
    "import matplotlib.pyplot as plt"
   ]
  },
  {
   "cell_type": "code",
   "execution_count": 2,
   "metadata": {},
   "outputs": [],
   "source": [
    "data = pd.read_csv('dermatology_csv.csv')\n",
    "data.head()\n",
    "\n",
    "X = data.iloc[:,0:34]\n",
    "\n",
    "y = data.iloc[:,-1]\n",
    "\n",
    "from sklearn.impute import SimpleImputer\n",
    "imputer = SimpleImputer(missing_values=np.nan,strategy ='mean')\n",
    "imputer = imputer.fit(X)\n",
    "X = imputer.transform(X)\n",
    "\n",
    "variance = np.var(X,axis=0)\n",
    "ele = sorted(variance,reverse=True)"
   ]
  },
  {
   "cell_type": "code",
   "execution_count": 11,
   "metadata": {},
   "outputs": [
    {
     "name": "stdout",
     "output_type": "stream",
     "text": [
      "34\n",
      "21\n",
      "4\n",
      "28\n",
      "33\n",
      "16\n",
      "20\n",
      "22\n",
      "9\n",
      "6\n",
      "27\n",
      "29\n",
      "19\n",
      "5\n",
      "3\n",
      "10\n",
      "12\n",
      "26\n",
      "15\n",
      "25\n",
      "8\n",
      "14\n",
      "24\n",
      "18\n",
      "32\n",
      "17\n",
      "2\n",
      "23\n",
      "1\n",
      "7\n",
      "31\n",
      "30\n",
      "13\n",
      "11\n"
     ]
    }
   ],
   "source": [
    "for i in range(len(ele)):\n",
    "    for j in range(len(variance)):\n",
    "        if(variance[j]==ele[i]):\n",
    "            print(j+1)\n",
    "        "
   ]
  }
 ],
 "metadata": {
  "kernelspec": {
   "display_name": "Python 3",
   "language": "python",
   "name": "python3"
  },
  "language_info": {
   "codemirror_mode": {
    "name": "ipython",
    "version": 3
   },
   "file_extension": ".py",
   "mimetype": "text/x-python",
   "name": "python",
   "nbconvert_exporter": "python",
   "pygments_lexer": "ipython3",
   "version": "3.7.4"
  }
 },
 "nbformat": 4,
 "nbformat_minor": 4
}
